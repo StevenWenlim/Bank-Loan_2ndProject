{
  "cells": [
    {
      "cell_type": "markdown",
      "metadata": {
        "id": "AKDZIFO-Lhkr"
      },
      "source": [
        "# Analyzing Risk of Default in Loan Repayment\n",
        "\n",
        "Here my task is to prepare a report for credit division of a bank. I will try to investigate the affect of client's marital status and the nummber of children on the probability of default in loan repayment. The bank already has some data regarding the creditworthiness of the clients.\n",
        "\n",
        "This report will be considered when making a credit assesment for prospective borrowers. Credit assessment is used to evaluate the ability of prospective borrowers to repay their loans"
      ]
    },
    {
      "cell_type": "markdown",
      "metadata": {
        "id": "NApiUv6mLhkr"
      },
      "source": [
        "# Table of Contents <a id='back'></a>\n",
        "\n",
        "* [Stage 1. Data Overview](#data_review)\n",
        "* [Stage 2. Data Preprocessing](#data_preprocessing)\n",
        "    * [2.1 Data Preprocessing Conclusions](#data_preprocessing_conclusions)\n",
        "* [Stage 3. Data Transformation](#data_transformation)\n",
        "    * [3.1 Dealing With Missing Values](#dealing_with_missing_values)\n",
        "    * [3.2 Data Preprocessing 'total_income' column](#data_preprocessing_in_total_income_column)\n",
        "    * [3.3 Data Preprocessing 'days_employed' column](#data_preprocessing_in_days_employed_column)\n",
        "* [Stage 4. Testing Hypothesis](#hypothesis)\n",
        "    * [4.1 Hypothesis 1: Correlation Between Having Children and Timeliness in Loan Repayment](#children)\n",
        "    * [4.2 Hypothesis 2: Correlation Between Marital Status and Timeliness in Loan Repayment](#family_status)\n",
        "    * [4.3 Hypothesis 3: Correlation Between Income Level and Timeliness in Loan Repayment](#total_income)\n",
        "    * [4.4 Hypothesis 4: Correlation Betweeen Variant of Loan Purposes and Timeliness in Loan Repayment](#total_income)\n",
        "* [General Conclusions](#end)"
      ]
    },
    {
      "cell_type": "markdown",
      "metadata": {
        "id": "hwMeSGlFLhks"
      },
      "source": [
        "## Data Overview"
      ]
    },
    {
      "cell_type": "code",
      "execution_count": null,
      "metadata": {
        "id": "wZSWDQRZLhks"
      },
      "outputs": [],
      "source": [
        "import pandas as pd\n",
        "import seaborn as sns\n",
        "import warnings\n",
        "warnings.filterwarnings(\"ignore\")"
      ]
    },
    {
      "cell_type": "code",
      "execution_count": null,
      "metadata": {
        "id": "RzAWnjcALhks",
        "outputId": "c6a7af01-dfdb-4a0a-936d-bc914fb8fb61"
      },
      "outputs": [
        {
          "data": {
            "text/html": [
              "<div>\n",
              "<style scoped>\n",
              "    .dataframe tbody tr th:only-of-type {\n",
              "        vertical-align: middle;\n",
              "    }\n",
              "\n",
              "    .dataframe tbody tr th {\n",
              "        vertical-align: top;\n",
              "    }\n",
              "\n",
              "    .dataframe thead th {\n",
              "        text-align: right;\n",
              "    }\n",
              "</style>\n",
              "<table border=\"1\" class=\"dataframe\">\n",
              "  <thead>\n",
              "    <tr style=\"text-align: right;\">\n",
              "      <th></th>\n",
              "      <th>children</th>\n",
              "      <th>days_employed</th>\n",
              "      <th>dob_years</th>\n",
              "      <th>education</th>\n",
              "      <th>education_id</th>\n",
              "      <th>family_status</th>\n",
              "      <th>family_status_id</th>\n",
              "      <th>gender</th>\n",
              "      <th>income_type</th>\n",
              "      <th>debt</th>\n",
              "      <th>total_income</th>\n",
              "      <th>purpose</th>\n",
              "    </tr>\n",
              "  </thead>\n",
              "  <tbody>\n",
              "    <tr>\n",
              "      <th>0</th>\n",
              "      <td>1</td>\n",
              "      <td>-8437.673028</td>\n",
              "      <td>42</td>\n",
              "      <td>bachelor's degree</td>\n",
              "      <td>0</td>\n",
              "      <td>married</td>\n",
              "      <td>0</td>\n",
              "      <td>F</td>\n",
              "      <td>employee</td>\n",
              "      <td>0</td>\n",
              "      <td>40620.102</td>\n",
              "      <td>purchase of the house</td>\n",
              "    </tr>\n",
              "    <tr>\n",
              "      <th>1</th>\n",
              "      <td>1</td>\n",
              "      <td>-4024.803754</td>\n",
              "      <td>36</td>\n",
              "      <td>secondary education</td>\n",
              "      <td>1</td>\n",
              "      <td>married</td>\n",
              "      <td>0</td>\n",
              "      <td>F</td>\n",
              "      <td>employee</td>\n",
              "      <td>0</td>\n",
              "      <td>17932.802</td>\n",
              "      <td>car purchase</td>\n",
              "    </tr>\n",
              "    <tr>\n",
              "      <th>2</th>\n",
              "      <td>0</td>\n",
              "      <td>-5623.422610</td>\n",
              "      <td>33</td>\n",
              "      <td>Secondary Education</td>\n",
              "      <td>1</td>\n",
              "      <td>married</td>\n",
              "      <td>0</td>\n",
              "      <td>M</td>\n",
              "      <td>employee</td>\n",
              "      <td>0</td>\n",
              "      <td>23341.752</td>\n",
              "      <td>purchase of the house</td>\n",
              "    </tr>\n",
              "    <tr>\n",
              "      <th>3</th>\n",
              "      <td>3</td>\n",
              "      <td>-4124.747207</td>\n",
              "      <td>32</td>\n",
              "      <td>secondary education</td>\n",
              "      <td>1</td>\n",
              "      <td>married</td>\n",
              "      <td>0</td>\n",
              "      <td>M</td>\n",
              "      <td>employee</td>\n",
              "      <td>0</td>\n",
              "      <td>42820.568</td>\n",
              "      <td>supplementary education</td>\n",
              "    </tr>\n",
              "    <tr>\n",
              "      <th>4</th>\n",
              "      <td>0</td>\n",
              "      <td>340266.072047</td>\n",
              "      <td>53</td>\n",
              "      <td>secondary education</td>\n",
              "      <td>1</td>\n",
              "      <td>civil partnership</td>\n",
              "      <td>1</td>\n",
              "      <td>F</td>\n",
              "      <td>retiree</td>\n",
              "      <td>0</td>\n",
              "      <td>25378.572</td>\n",
              "      <td>to have a wedding</td>\n",
              "    </tr>\n",
              "    <tr>\n",
              "      <th>...</th>\n",
              "      <td>...</td>\n",
              "      <td>...</td>\n",
              "      <td>...</td>\n",
              "      <td>...</td>\n",
              "      <td>...</td>\n",
              "      <td>...</td>\n",
              "      <td>...</td>\n",
              "      <td>...</td>\n",
              "      <td>...</td>\n",
              "      <td>...</td>\n",
              "      <td>...</td>\n",
              "      <td>...</td>\n",
              "    </tr>\n",
              "    <tr>\n",
              "      <th>21520</th>\n",
              "      <td>1</td>\n",
              "      <td>-4529.316663</td>\n",
              "      <td>43</td>\n",
              "      <td>secondary education</td>\n",
              "      <td>1</td>\n",
              "      <td>civil partnership</td>\n",
              "      <td>1</td>\n",
              "      <td>F</td>\n",
              "      <td>business</td>\n",
              "      <td>0</td>\n",
              "      <td>35966.698</td>\n",
              "      <td>housing transactions</td>\n",
              "    </tr>\n",
              "    <tr>\n",
              "      <th>21521</th>\n",
              "      <td>0</td>\n",
              "      <td>343937.404131</td>\n",
              "      <td>67</td>\n",
              "      <td>secondary education</td>\n",
              "      <td>1</td>\n",
              "      <td>married</td>\n",
              "      <td>0</td>\n",
              "      <td>F</td>\n",
              "      <td>retiree</td>\n",
              "      <td>0</td>\n",
              "      <td>24959.969</td>\n",
              "      <td>purchase of a car</td>\n",
              "    </tr>\n",
              "    <tr>\n",
              "      <th>21522</th>\n",
              "      <td>1</td>\n",
              "      <td>-2113.346888</td>\n",
              "      <td>38</td>\n",
              "      <td>secondary education</td>\n",
              "      <td>1</td>\n",
              "      <td>civil partnership</td>\n",
              "      <td>1</td>\n",
              "      <td>M</td>\n",
              "      <td>employee</td>\n",
              "      <td>1</td>\n",
              "      <td>14347.610</td>\n",
              "      <td>property</td>\n",
              "    </tr>\n",
              "    <tr>\n",
              "      <th>21523</th>\n",
              "      <td>3</td>\n",
              "      <td>-3112.481705</td>\n",
              "      <td>38</td>\n",
              "      <td>secondary education</td>\n",
              "      <td>1</td>\n",
              "      <td>married</td>\n",
              "      <td>0</td>\n",
              "      <td>M</td>\n",
              "      <td>employee</td>\n",
              "      <td>1</td>\n",
              "      <td>39054.888</td>\n",
              "      <td>buying my own car</td>\n",
              "    </tr>\n",
              "    <tr>\n",
              "      <th>21524</th>\n",
              "      <td>2</td>\n",
              "      <td>-1984.507589</td>\n",
              "      <td>40</td>\n",
              "      <td>secondary education</td>\n",
              "      <td>1</td>\n",
              "      <td>married</td>\n",
              "      <td>0</td>\n",
              "      <td>F</td>\n",
              "      <td>employee</td>\n",
              "      <td>0</td>\n",
              "      <td>13127.587</td>\n",
              "      <td>to buy a car</td>\n",
              "    </tr>\n",
              "  </tbody>\n",
              "</table>\n",
              "<p>21525 rows × 12 columns</p>\n",
              "</div>"
            ],
            "text/plain": [
              "       children  days_employed  dob_years            education  education_id  \\\n",
              "0             1   -8437.673028         42    bachelor's degree             0   \n",
              "1             1   -4024.803754         36  secondary education             1   \n",
              "2             0   -5623.422610         33  Secondary Education             1   \n",
              "3             3   -4124.747207         32  secondary education             1   \n",
              "4             0  340266.072047         53  secondary education             1   \n",
              "...         ...            ...        ...                  ...           ...   \n",
              "21520         1   -4529.316663         43  secondary education             1   \n",
              "21521         0  343937.404131         67  secondary education             1   \n",
              "21522         1   -2113.346888         38  secondary education             1   \n",
              "21523         3   -3112.481705         38  secondary education             1   \n",
              "21524         2   -1984.507589         40  secondary education             1   \n",
              "\n",
              "           family_status  family_status_id gender income_type  debt  \\\n",
              "0                married                 0      F    employee     0   \n",
              "1                married                 0      F    employee     0   \n",
              "2                married                 0      M    employee     0   \n",
              "3                married                 0      M    employee     0   \n",
              "4      civil partnership                 1      F     retiree     0   \n",
              "...                  ...               ...    ...         ...   ...   \n",
              "21520  civil partnership                 1      F    business     0   \n",
              "21521            married                 0      F     retiree     0   \n",
              "21522  civil partnership                 1      M    employee     1   \n",
              "21523            married                 0      M    employee     1   \n",
              "21524            married                 0      F    employee     0   \n",
              "\n",
              "       total_income                  purpose  \n",
              "0         40620.102    purchase of the house  \n",
              "1         17932.802             car purchase  \n",
              "2         23341.752    purchase of the house  \n",
              "3         42820.568  supplementary education  \n",
              "4         25378.572        to have a wedding  \n",
              "...             ...                      ...  \n",
              "21520     35966.698     housing transactions  \n",
              "21521     24959.969        purchase of a car  \n",
              "21522     14347.610                 property  \n",
              "21523     39054.888        buying my own car  \n",
              "21524     13127.587             to buy a car  \n",
              "\n",
              "[21525 rows x 12 columns]"
            ]
          },
          "execution_count": 102,
          "metadata": {},
          "output_type": "execute_result"
        }
      ],
      "source": [
        "credit_scoring = pd.read_csv('/datasets/credit_scoring_eng.csv')\n",
        "credit_scoring"
      ]
    },
    {
      "cell_type": "markdown",
      "metadata": {
        "id": "JjnEnnuZLhku"
      },
      "source": [
        "## Data Prepocessing\n",
        "\n",
        "**Data Description**\n",
        "- `children` - Number of Children in a family\n",
        "- `days_employed` - Number of days that the borrower has been employed\n",
        "- `dob_years` - Age of the borrower in years\n",
        "- `education` - Borrower's education level\n",
        "- `education_id` - Identifier for the borrower's educational level\n",
        "- `family_status` - Borrower's marital status\n",
        "- `family_status_id` - Identifier for borrower's marital status\n",
        "- `gender` - Borrower's gender\n",
        "- `income_type` - Source of income\n",
        "- `debt` - A binary variable indicating whether the borrower has any outstanding debt or loan payments\n",
        "- `total_income` - Borrower's monthly income\n",
        "- `purpose` - Loan purposes"
      ]
    },
    {
      "cell_type": "code",
      "execution_count": null,
      "metadata": {
        "id": "0QWq6G6JLhku",
        "outputId": "b15a17f7-5413-4b90-f3b1-114833e819a5"
      },
      "outputs": [
        {
          "data": {
            "text/plain": [
              "(21525, 12)"
            ]
          },
          "execution_count": 103,
          "metadata": {},
          "output_type": "execute_result"
        }
      ],
      "source": [
        "credit_scoring.shape"
      ]
    },
    {
      "cell_type": "code",
      "execution_count": null,
      "metadata": {
        "id": "BZsbkdCxLhkv",
        "outputId": "03a5456f-31b0-4aba-e3c0-c33577d3c150"
      },
      "outputs": [
        {
          "data": {
            "text/html": [
              "<div>\n",
              "<style scoped>\n",
              "    .dataframe tbody tr th:only-of-type {\n",
              "        vertical-align: middle;\n",
              "    }\n",
              "\n",
              "    .dataframe tbody tr th {\n",
              "        vertical-align: top;\n",
              "    }\n",
              "\n",
              "    .dataframe thead th {\n",
              "        text-align: right;\n",
              "    }\n",
              "</style>\n",
              "<table border=\"1\" class=\"dataframe\">\n",
              "  <thead>\n",
              "    <tr style=\"text-align: right;\">\n",
              "      <th></th>\n",
              "      <th>children</th>\n",
              "      <th>days_employed</th>\n",
              "      <th>dob_years</th>\n",
              "      <th>education</th>\n",
              "      <th>education_id</th>\n",
              "      <th>family_status</th>\n",
              "      <th>family_status_id</th>\n",
              "      <th>gender</th>\n",
              "      <th>income_type</th>\n",
              "      <th>debt</th>\n",
              "      <th>total_income</th>\n",
              "      <th>purpose</th>\n",
              "    </tr>\n",
              "  </thead>\n",
              "  <tbody>\n",
              "    <tr>\n",
              "      <th>0</th>\n",
              "      <td>1</td>\n",
              "      <td>-8437.673028</td>\n",
              "      <td>42</td>\n",
              "      <td>bachelor's degree</td>\n",
              "      <td>0</td>\n",
              "      <td>married</td>\n",
              "      <td>0</td>\n",
              "      <td>F</td>\n",
              "      <td>employee</td>\n",
              "      <td>0</td>\n",
              "      <td>40620.102</td>\n",
              "      <td>purchase of the house</td>\n",
              "    </tr>\n",
              "    <tr>\n",
              "      <th>1</th>\n",
              "      <td>1</td>\n",
              "      <td>-4024.803754</td>\n",
              "      <td>36</td>\n",
              "      <td>secondary education</td>\n",
              "      <td>1</td>\n",
              "      <td>married</td>\n",
              "      <td>0</td>\n",
              "      <td>F</td>\n",
              "      <td>employee</td>\n",
              "      <td>0</td>\n",
              "      <td>17932.802</td>\n",
              "      <td>car purchase</td>\n",
              "    </tr>\n",
              "    <tr>\n",
              "      <th>2</th>\n",
              "      <td>0</td>\n",
              "      <td>-5623.422610</td>\n",
              "      <td>33</td>\n",
              "      <td>Secondary Education</td>\n",
              "      <td>1</td>\n",
              "      <td>married</td>\n",
              "      <td>0</td>\n",
              "      <td>M</td>\n",
              "      <td>employee</td>\n",
              "      <td>0</td>\n",
              "      <td>23341.752</td>\n",
              "      <td>purchase of the house</td>\n",
              "    </tr>\n",
              "    <tr>\n",
              "      <th>3</th>\n",
              "      <td>3</td>\n",
              "      <td>-4124.747207</td>\n",
              "      <td>32</td>\n",
              "      <td>secondary education</td>\n",
              "      <td>1</td>\n",
              "      <td>married</td>\n",
              "      <td>0</td>\n",
              "      <td>M</td>\n",
              "      <td>employee</td>\n",
              "      <td>0</td>\n",
              "      <td>42820.568</td>\n",
              "      <td>supplementary education</td>\n",
              "    </tr>\n",
              "    <tr>\n",
              "      <th>4</th>\n",
              "      <td>0</td>\n",
              "      <td>340266.072047</td>\n",
              "      <td>53</td>\n",
              "      <td>secondary education</td>\n",
              "      <td>1</td>\n",
              "      <td>civil partnership</td>\n",
              "      <td>1</td>\n",
              "      <td>F</td>\n",
              "      <td>retiree</td>\n",
              "      <td>0</td>\n",
              "      <td>25378.572</td>\n",
              "      <td>to have a wedding</td>\n",
              "    </tr>\n",
              "    <tr>\n",
              "      <th>5</th>\n",
              "      <td>0</td>\n",
              "      <td>-926.185831</td>\n",
              "      <td>27</td>\n",
              "      <td>bachelor's degree</td>\n",
              "      <td>0</td>\n",
              "      <td>civil partnership</td>\n",
              "      <td>1</td>\n",
              "      <td>M</td>\n",
              "      <td>business</td>\n",
              "      <td>0</td>\n",
              "      <td>40922.170</td>\n",
              "      <td>purchase of the house</td>\n",
              "    </tr>\n",
              "    <tr>\n",
              "      <th>6</th>\n",
              "      <td>0</td>\n",
              "      <td>-2879.202052</td>\n",
              "      <td>43</td>\n",
              "      <td>bachelor's degree</td>\n",
              "      <td>0</td>\n",
              "      <td>married</td>\n",
              "      <td>0</td>\n",
              "      <td>F</td>\n",
              "      <td>business</td>\n",
              "      <td>0</td>\n",
              "      <td>38484.156</td>\n",
              "      <td>housing transactions</td>\n",
              "    </tr>\n",
              "    <tr>\n",
              "      <th>7</th>\n",
              "      <td>0</td>\n",
              "      <td>-152.779569</td>\n",
              "      <td>50</td>\n",
              "      <td>SECONDARY EDUCATION</td>\n",
              "      <td>1</td>\n",
              "      <td>married</td>\n",
              "      <td>0</td>\n",
              "      <td>M</td>\n",
              "      <td>employee</td>\n",
              "      <td>0</td>\n",
              "      <td>21731.829</td>\n",
              "      <td>education</td>\n",
              "    </tr>\n",
              "    <tr>\n",
              "      <th>8</th>\n",
              "      <td>2</td>\n",
              "      <td>-6929.865299</td>\n",
              "      <td>35</td>\n",
              "      <td>BACHELOR'S DEGREE</td>\n",
              "      <td>0</td>\n",
              "      <td>civil partnership</td>\n",
              "      <td>1</td>\n",
              "      <td>F</td>\n",
              "      <td>employee</td>\n",
              "      <td>0</td>\n",
              "      <td>15337.093</td>\n",
              "      <td>having a wedding</td>\n",
              "    </tr>\n",
              "    <tr>\n",
              "      <th>9</th>\n",
              "      <td>0</td>\n",
              "      <td>-2188.756445</td>\n",
              "      <td>41</td>\n",
              "      <td>secondary education</td>\n",
              "      <td>1</td>\n",
              "      <td>married</td>\n",
              "      <td>0</td>\n",
              "      <td>M</td>\n",
              "      <td>employee</td>\n",
              "      <td>0</td>\n",
              "      <td>23108.150</td>\n",
              "      <td>purchase of the house for my family</td>\n",
              "    </tr>\n",
              "  </tbody>\n",
              "</table>\n",
              "</div>"
            ],
            "text/plain": [
              "   children  days_employed  dob_years            education  education_id  \\\n",
              "0         1   -8437.673028         42    bachelor's degree             0   \n",
              "1         1   -4024.803754         36  secondary education             1   \n",
              "2         0   -5623.422610         33  Secondary Education             1   \n",
              "3         3   -4124.747207         32  secondary education             1   \n",
              "4         0  340266.072047         53  secondary education             1   \n",
              "5         0    -926.185831         27    bachelor's degree             0   \n",
              "6         0   -2879.202052         43    bachelor's degree             0   \n",
              "7         0    -152.779569         50  SECONDARY EDUCATION             1   \n",
              "8         2   -6929.865299         35    BACHELOR'S DEGREE             0   \n",
              "9         0   -2188.756445         41  secondary education             1   \n",
              "\n",
              "       family_status  family_status_id gender income_type  debt  total_income  \\\n",
              "0            married                 0      F    employee     0     40620.102   \n",
              "1            married                 0      F    employee     0     17932.802   \n",
              "2            married                 0      M    employee     0     23341.752   \n",
              "3            married                 0      M    employee     0     42820.568   \n",
              "4  civil partnership                 1      F     retiree     0     25378.572   \n",
              "5  civil partnership                 1      M    business     0     40922.170   \n",
              "6            married                 0      F    business     0     38484.156   \n",
              "7            married                 0      M    employee     0     21731.829   \n",
              "8  civil partnership                 1      F    employee     0     15337.093   \n",
              "9            married                 0      M    employee     0     23108.150   \n",
              "\n",
              "                               purpose  \n",
              "0                purchase of the house  \n",
              "1                         car purchase  \n",
              "2                purchase of the house  \n",
              "3              supplementary education  \n",
              "4                    to have a wedding  \n",
              "5                purchase of the house  \n",
              "6                 housing transactions  \n",
              "7                            education  \n",
              "8                     having a wedding  \n",
              "9  purchase of the house for my family  "
            ]
          },
          "execution_count": 104,
          "metadata": {},
          "output_type": "execute_result"
        }
      ],
      "source": [
        "credit_scoring.head(10)"
      ]
    },
    {
      "cell_type": "code",
      "execution_count": null,
      "metadata": {
        "scrolled": true,
        "id": "48iNOHj9Lhkv",
        "outputId": "64ba5f6e-409f-4c70-dfae-1eabe1e7d0e2"
      },
      "outputs": [
        {
          "name": "stdout",
          "output_type": "stream",
          "text": [
            "<class 'pandas.core.frame.DataFrame'>\n",
            "RangeIndex: 21525 entries, 0 to 21524\n",
            "Data columns (total 12 columns):\n",
            " #   Column            Non-Null Count  Dtype  \n",
            "---  ------            --------------  -----  \n",
            " 0   children          21525 non-null  int64  \n",
            " 1   days_employed     19351 non-null  float64\n",
            " 2   dob_years         21525 non-null  int64  \n",
            " 3   education         21525 non-null  object \n",
            " 4   education_id      21525 non-null  int64  \n",
            " 5   family_status     21525 non-null  object \n",
            " 6   family_status_id  21525 non-null  int64  \n",
            " 7   gender            21525 non-null  object \n",
            " 8   income_type       21525 non-null  object \n",
            " 9   debt              21525 non-null  int64  \n",
            " 10  total_income      19351 non-null  float64\n",
            " 11  purpose           21525 non-null  object \n",
            "dtypes: float64(2), int64(5), object(5)\n",
            "memory usage: 2.0+ MB\n"
          ]
        }
      ],
      "source": [
        "# Gather dataframe information\n",
        "credit_scoring.info()"
      ]
    },
    {
      "cell_type": "markdown",
      "metadata": {
        "id": "H9VE5-X1Lhkv"
      },
      "source": [
        "**There are missing values in `days_employed` and `total_income` columns. There are two probabilities, either missing values in `days_employed` and `total_income`are aligned or not**"
      ]
    },
    {
      "cell_type": "code",
      "execution_count": null,
      "metadata": {
        "id": "ZqWtkVNZLhkw",
        "outputId": "8bc0a753-62c0-4a81-e230-25f7d4773f1b"
      },
      "outputs": [
        {
          "data": {
            "text/html": [
              "<div>\n",
              "<style scoped>\n",
              "    .dataframe tbody tr th:only-of-type {\n",
              "        vertical-align: middle;\n",
              "    }\n",
              "\n",
              "    .dataframe tbody tr th {\n",
              "        vertical-align: top;\n",
              "    }\n",
              "\n",
              "    .dataframe thead th {\n",
              "        text-align: right;\n",
              "    }\n",
              "</style>\n",
              "<table border=\"1\" class=\"dataframe\">\n",
              "  <thead>\n",
              "    <tr style=\"text-align: right;\">\n",
              "      <th></th>\n",
              "      <th>children</th>\n",
              "      <th>days_employed</th>\n",
              "      <th>dob_years</th>\n",
              "      <th>education</th>\n",
              "      <th>education_id</th>\n",
              "      <th>family_status</th>\n",
              "      <th>family_status_id</th>\n",
              "      <th>gender</th>\n",
              "      <th>income_type</th>\n",
              "      <th>debt</th>\n",
              "      <th>total_income</th>\n",
              "      <th>purpose</th>\n",
              "    </tr>\n",
              "  </thead>\n",
              "  <tbody>\n",
              "    <tr>\n",
              "      <th>12</th>\n",
              "      <td>0</td>\n",
              "      <td>NaN</td>\n",
              "      <td>65</td>\n",
              "      <td>secondary education</td>\n",
              "      <td>1</td>\n",
              "      <td>civil partnership</td>\n",
              "      <td>1</td>\n",
              "      <td>M</td>\n",
              "      <td>retiree</td>\n",
              "      <td>0</td>\n",
              "      <td>NaN</td>\n",
              "      <td>to have a wedding</td>\n",
              "    </tr>\n",
              "    <tr>\n",
              "      <th>26</th>\n",
              "      <td>0</td>\n",
              "      <td>NaN</td>\n",
              "      <td>41</td>\n",
              "      <td>secondary education</td>\n",
              "      <td>1</td>\n",
              "      <td>married</td>\n",
              "      <td>0</td>\n",
              "      <td>M</td>\n",
              "      <td>civil servant</td>\n",
              "      <td>0</td>\n",
              "      <td>NaN</td>\n",
              "      <td>education</td>\n",
              "    </tr>\n",
              "    <tr>\n",
              "      <th>29</th>\n",
              "      <td>0</td>\n",
              "      <td>NaN</td>\n",
              "      <td>63</td>\n",
              "      <td>secondary education</td>\n",
              "      <td>1</td>\n",
              "      <td>unmarried</td>\n",
              "      <td>4</td>\n",
              "      <td>F</td>\n",
              "      <td>retiree</td>\n",
              "      <td>0</td>\n",
              "      <td>NaN</td>\n",
              "      <td>building a real estate</td>\n",
              "    </tr>\n",
              "    <tr>\n",
              "      <th>41</th>\n",
              "      <td>0</td>\n",
              "      <td>NaN</td>\n",
              "      <td>50</td>\n",
              "      <td>secondary education</td>\n",
              "      <td>1</td>\n",
              "      <td>married</td>\n",
              "      <td>0</td>\n",
              "      <td>F</td>\n",
              "      <td>civil servant</td>\n",
              "      <td>0</td>\n",
              "      <td>NaN</td>\n",
              "      <td>second-hand car purchase</td>\n",
              "    </tr>\n",
              "    <tr>\n",
              "      <th>55</th>\n",
              "      <td>0</td>\n",
              "      <td>NaN</td>\n",
              "      <td>54</td>\n",
              "      <td>secondary education</td>\n",
              "      <td>1</td>\n",
              "      <td>civil partnership</td>\n",
              "      <td>1</td>\n",
              "      <td>F</td>\n",
              "      <td>retiree</td>\n",
              "      <td>1</td>\n",
              "      <td>NaN</td>\n",
              "      <td>to have a wedding</td>\n",
              "    </tr>\n",
              "    <tr>\n",
              "      <th>...</th>\n",
              "      <td>...</td>\n",
              "      <td>...</td>\n",
              "      <td>...</td>\n",
              "      <td>...</td>\n",
              "      <td>...</td>\n",
              "      <td>...</td>\n",
              "      <td>...</td>\n",
              "      <td>...</td>\n",
              "      <td>...</td>\n",
              "      <td>...</td>\n",
              "      <td>...</td>\n",
              "      <td>...</td>\n",
              "    </tr>\n",
              "    <tr>\n",
              "      <th>21489</th>\n",
              "      <td>2</td>\n",
              "      <td>NaN</td>\n",
              "      <td>47</td>\n",
              "      <td>Secondary Education</td>\n",
              "      <td>1</td>\n",
              "      <td>married</td>\n",
              "      <td>0</td>\n",
              "      <td>M</td>\n",
              "      <td>business</td>\n",
              "      <td>0</td>\n",
              "      <td>NaN</td>\n",
              "      <td>purchase of a car</td>\n",
              "    </tr>\n",
              "    <tr>\n",
              "      <th>21495</th>\n",
              "      <td>1</td>\n",
              "      <td>NaN</td>\n",
              "      <td>50</td>\n",
              "      <td>secondary education</td>\n",
              "      <td>1</td>\n",
              "      <td>civil partnership</td>\n",
              "      <td>1</td>\n",
              "      <td>F</td>\n",
              "      <td>employee</td>\n",
              "      <td>0</td>\n",
              "      <td>NaN</td>\n",
              "      <td>wedding ceremony</td>\n",
              "    </tr>\n",
              "    <tr>\n",
              "      <th>21497</th>\n",
              "      <td>0</td>\n",
              "      <td>NaN</td>\n",
              "      <td>48</td>\n",
              "      <td>BACHELOR'S DEGREE</td>\n",
              "      <td>0</td>\n",
              "      <td>married</td>\n",
              "      <td>0</td>\n",
              "      <td>F</td>\n",
              "      <td>business</td>\n",
              "      <td>0</td>\n",
              "      <td>NaN</td>\n",
              "      <td>building a property</td>\n",
              "    </tr>\n",
              "    <tr>\n",
              "      <th>21502</th>\n",
              "      <td>1</td>\n",
              "      <td>NaN</td>\n",
              "      <td>42</td>\n",
              "      <td>secondary education</td>\n",
              "      <td>1</td>\n",
              "      <td>married</td>\n",
              "      <td>0</td>\n",
              "      <td>F</td>\n",
              "      <td>employee</td>\n",
              "      <td>0</td>\n",
              "      <td>NaN</td>\n",
              "      <td>building a real estate</td>\n",
              "    </tr>\n",
              "    <tr>\n",
              "      <th>21510</th>\n",
              "      <td>2</td>\n",
              "      <td>NaN</td>\n",
              "      <td>28</td>\n",
              "      <td>secondary education</td>\n",
              "      <td>1</td>\n",
              "      <td>married</td>\n",
              "      <td>0</td>\n",
              "      <td>F</td>\n",
              "      <td>employee</td>\n",
              "      <td>0</td>\n",
              "      <td>NaN</td>\n",
              "      <td>car purchase</td>\n",
              "    </tr>\n",
              "  </tbody>\n",
              "</table>\n",
              "<p>2174 rows × 12 columns</p>\n",
              "</div>"
            ],
            "text/plain": [
              "       children  days_employed  dob_years            education  education_id  \\\n",
              "12            0            NaN         65  secondary education             1   \n",
              "26            0            NaN         41  secondary education             1   \n",
              "29            0            NaN         63  secondary education             1   \n",
              "41            0            NaN         50  secondary education             1   \n",
              "55            0            NaN         54  secondary education             1   \n",
              "...         ...            ...        ...                  ...           ...   \n",
              "21489         2            NaN         47  Secondary Education             1   \n",
              "21495         1            NaN         50  secondary education             1   \n",
              "21497         0            NaN         48    BACHELOR'S DEGREE             0   \n",
              "21502         1            NaN         42  secondary education             1   \n",
              "21510         2            NaN         28  secondary education             1   \n",
              "\n",
              "           family_status  family_status_id gender    income_type  debt  \\\n",
              "12     civil partnership                 1      M        retiree     0   \n",
              "26               married                 0      M  civil servant     0   \n",
              "29             unmarried                 4      F        retiree     0   \n",
              "41               married                 0      F  civil servant     0   \n",
              "55     civil partnership                 1      F        retiree     1   \n",
              "...                  ...               ...    ...            ...   ...   \n",
              "21489            married                 0      M       business     0   \n",
              "21495  civil partnership                 1      F       employee     0   \n",
              "21497            married                 0      F       business     0   \n",
              "21502            married                 0      F       employee     0   \n",
              "21510            married                 0      F       employee     0   \n",
              "\n",
              "       total_income                   purpose  \n",
              "12              NaN         to have a wedding  \n",
              "26              NaN                 education  \n",
              "29              NaN    building a real estate  \n",
              "41              NaN  second-hand car purchase  \n",
              "55              NaN         to have a wedding  \n",
              "...             ...                       ...  \n",
              "21489           NaN         purchase of a car  \n",
              "21495           NaN          wedding ceremony  \n",
              "21497           NaN       building a property  \n",
              "21502           NaN    building a real estate  \n",
              "21510           NaN              car purchase  \n",
              "\n",
              "[2174 rows x 12 columns]"
            ]
          },
          "execution_count": 106,
          "metadata": {},
          "output_type": "execute_result"
        }
      ],
      "source": [
        "credit_scoring[credit_scoring['days_employed'].isnull()]"
      ]
    },
    {
      "cell_type": "markdown",
      "metadata": {
        "id": "OjzRfjHwLhkw"
      },
      "source": [
        "**This missing values might be occur due to data entry error or possibly because the clients are unwilling to provide such information, this conclusion obtain by observed that in every instance where a value is missing in the \"days employed\" column, a value is also missing in the \"total income\" column.**"
      ]
    },
    {
      "cell_type": "code",
      "execution_count": null,
      "metadata": {
        "scrolled": false,
        "id": "vHe4Ks21Lhkx",
        "outputId": "e9c49fc9-b3ad-4d14-b895-fdc4dbbd7d20"
      },
      "outputs": [
        {
          "data": {
            "text/html": [
              "<div>\n",
              "<style scoped>\n",
              "    .dataframe tbody tr th:only-of-type {\n",
              "        vertical-align: middle;\n",
              "    }\n",
              "\n",
              "    .dataframe tbody tr th {\n",
              "        vertical-align: top;\n",
              "    }\n",
              "\n",
              "    .dataframe thead th {\n",
              "        text-align: right;\n",
              "    }\n",
              "</style>\n",
              "<table border=\"1\" class=\"dataframe\">\n",
              "  <thead>\n",
              "    <tr style=\"text-align: right;\">\n",
              "      <th></th>\n",
              "      <th>children</th>\n",
              "      <th>days_employed</th>\n",
              "      <th>dob_years</th>\n",
              "      <th>education</th>\n",
              "      <th>education_id</th>\n",
              "      <th>family_status</th>\n",
              "      <th>family_status_id</th>\n",
              "      <th>gender</th>\n",
              "      <th>income_type</th>\n",
              "      <th>debt</th>\n",
              "      <th>total_income</th>\n",
              "      <th>purpose</th>\n",
              "    </tr>\n",
              "  </thead>\n",
              "  <tbody>\n",
              "    <tr>\n",
              "      <th>12</th>\n",
              "      <td>0</td>\n",
              "      <td>NaN</td>\n",
              "      <td>65</td>\n",
              "      <td>secondary education</td>\n",
              "      <td>1</td>\n",
              "      <td>civil partnership</td>\n",
              "      <td>1</td>\n",
              "      <td>M</td>\n",
              "      <td>retiree</td>\n",
              "      <td>0</td>\n",
              "      <td>NaN</td>\n",
              "      <td>to have a wedding</td>\n",
              "    </tr>\n",
              "    <tr>\n",
              "      <th>26</th>\n",
              "      <td>0</td>\n",
              "      <td>NaN</td>\n",
              "      <td>41</td>\n",
              "      <td>secondary education</td>\n",
              "      <td>1</td>\n",
              "      <td>married</td>\n",
              "      <td>0</td>\n",
              "      <td>M</td>\n",
              "      <td>civil servant</td>\n",
              "      <td>0</td>\n",
              "      <td>NaN</td>\n",
              "      <td>education</td>\n",
              "    </tr>\n",
              "    <tr>\n",
              "      <th>29</th>\n",
              "      <td>0</td>\n",
              "      <td>NaN</td>\n",
              "      <td>63</td>\n",
              "      <td>secondary education</td>\n",
              "      <td>1</td>\n",
              "      <td>unmarried</td>\n",
              "      <td>4</td>\n",
              "      <td>F</td>\n",
              "      <td>retiree</td>\n",
              "      <td>0</td>\n",
              "      <td>NaN</td>\n",
              "      <td>building a real estate</td>\n",
              "    </tr>\n",
              "    <tr>\n",
              "      <th>41</th>\n",
              "      <td>0</td>\n",
              "      <td>NaN</td>\n",
              "      <td>50</td>\n",
              "      <td>secondary education</td>\n",
              "      <td>1</td>\n",
              "      <td>married</td>\n",
              "      <td>0</td>\n",
              "      <td>F</td>\n",
              "      <td>civil servant</td>\n",
              "      <td>0</td>\n",
              "      <td>NaN</td>\n",
              "      <td>second-hand car purchase</td>\n",
              "    </tr>\n",
              "    <tr>\n",
              "      <th>55</th>\n",
              "      <td>0</td>\n",
              "      <td>NaN</td>\n",
              "      <td>54</td>\n",
              "      <td>secondary education</td>\n",
              "      <td>1</td>\n",
              "      <td>civil partnership</td>\n",
              "      <td>1</td>\n",
              "      <td>F</td>\n",
              "      <td>retiree</td>\n",
              "      <td>1</td>\n",
              "      <td>NaN</td>\n",
              "      <td>to have a wedding</td>\n",
              "    </tr>\n",
              "    <tr>\n",
              "      <th>...</th>\n",
              "      <td>...</td>\n",
              "      <td>...</td>\n",
              "      <td>...</td>\n",
              "      <td>...</td>\n",
              "      <td>...</td>\n",
              "      <td>...</td>\n",
              "      <td>...</td>\n",
              "      <td>...</td>\n",
              "      <td>...</td>\n",
              "      <td>...</td>\n",
              "      <td>...</td>\n",
              "      <td>...</td>\n",
              "    </tr>\n",
              "    <tr>\n",
              "      <th>21489</th>\n",
              "      <td>2</td>\n",
              "      <td>NaN</td>\n",
              "      <td>47</td>\n",
              "      <td>Secondary Education</td>\n",
              "      <td>1</td>\n",
              "      <td>married</td>\n",
              "      <td>0</td>\n",
              "      <td>M</td>\n",
              "      <td>business</td>\n",
              "      <td>0</td>\n",
              "      <td>NaN</td>\n",
              "      <td>purchase of a car</td>\n",
              "    </tr>\n",
              "    <tr>\n",
              "      <th>21495</th>\n",
              "      <td>1</td>\n",
              "      <td>NaN</td>\n",
              "      <td>50</td>\n",
              "      <td>secondary education</td>\n",
              "      <td>1</td>\n",
              "      <td>civil partnership</td>\n",
              "      <td>1</td>\n",
              "      <td>F</td>\n",
              "      <td>employee</td>\n",
              "      <td>0</td>\n",
              "      <td>NaN</td>\n",
              "      <td>wedding ceremony</td>\n",
              "    </tr>\n",
              "    <tr>\n",
              "      <th>21497</th>\n",
              "      <td>0</td>\n",
              "      <td>NaN</td>\n",
              "      <td>48</td>\n",
              "      <td>BACHELOR'S DEGREE</td>\n",
              "      <td>0</td>\n",
              "      <td>married</td>\n",
              "      <td>0</td>\n",
              "      <td>F</td>\n",
              "      <td>business</td>\n",
              "      <td>0</td>\n",
              "      <td>NaN</td>\n",
              "      <td>building a property</td>\n",
              "    </tr>\n",
              "    <tr>\n",
              "      <th>21502</th>\n",
              "      <td>1</td>\n",
              "      <td>NaN</td>\n",
              "      <td>42</td>\n",
              "      <td>secondary education</td>\n",
              "      <td>1</td>\n",
              "      <td>married</td>\n",
              "      <td>0</td>\n",
              "      <td>F</td>\n",
              "      <td>employee</td>\n",
              "      <td>0</td>\n",
              "      <td>NaN</td>\n",
              "      <td>building a real estate</td>\n",
              "    </tr>\n",
              "    <tr>\n",
              "      <th>21510</th>\n",
              "      <td>2</td>\n",
              "      <td>NaN</td>\n",
              "      <td>28</td>\n",
              "      <td>secondary education</td>\n",
              "      <td>1</td>\n",
              "      <td>married</td>\n",
              "      <td>0</td>\n",
              "      <td>F</td>\n",
              "      <td>employee</td>\n",
              "      <td>0</td>\n",
              "      <td>NaN</td>\n",
              "      <td>car purchase</td>\n",
              "    </tr>\n",
              "  </tbody>\n",
              "</table>\n",
              "<p>2174 rows × 12 columns</p>\n",
              "</div>"
            ],
            "text/plain": [
              "       children  days_employed  dob_years            education  education_id  \\\n",
              "12            0            NaN         65  secondary education             1   \n",
              "26            0            NaN         41  secondary education             1   \n",
              "29            0            NaN         63  secondary education             1   \n",
              "41            0            NaN         50  secondary education             1   \n",
              "55            0            NaN         54  secondary education             1   \n",
              "...         ...            ...        ...                  ...           ...   \n",
              "21489         2            NaN         47  Secondary Education             1   \n",
              "21495         1            NaN         50  secondary education             1   \n",
              "21497         0            NaN         48    BACHELOR'S DEGREE             0   \n",
              "21502         1            NaN         42  secondary education             1   \n",
              "21510         2            NaN         28  secondary education             1   \n",
              "\n",
              "           family_status  family_status_id gender    income_type  debt  \\\n",
              "12     civil partnership                 1      M        retiree     0   \n",
              "26               married                 0      M  civil servant     0   \n",
              "29             unmarried                 4      F        retiree     0   \n",
              "41               married                 0      F  civil servant     0   \n",
              "55     civil partnership                 1      F        retiree     1   \n",
              "...                  ...               ...    ...            ...   ...   \n",
              "21489            married                 0      M       business     0   \n",
              "21495  civil partnership                 1      F       employee     0   \n",
              "21497            married                 0      F       business     0   \n",
              "21502            married                 0      F       employee     0   \n",
              "21510            married                 0      F       employee     0   \n",
              "\n",
              "       total_income                   purpose  \n",
              "12              NaN         to have a wedding  \n",
              "26              NaN                 education  \n",
              "29              NaN    building a real estate  \n",
              "41              NaN  second-hand car purchase  \n",
              "55              NaN         to have a wedding  \n",
              "...             ...                       ...  \n",
              "21489           NaN         purchase of a car  \n",
              "21495           NaN          wedding ceremony  \n",
              "21497           NaN       building a property  \n",
              "21502           NaN    building a real estate  \n",
              "21510           NaN              car purchase  \n",
              "\n",
              "[2174 rows x 12 columns]"
            ]
          },
          "execution_count": 107,
          "metadata": {},
          "output_type": "execute_result"
        }
      ],
      "source": [
        "credit_scoring[(credit_scoring['days_employed'].isnull()) & (credit_scoring['total_income'].isnull())]\n"
      ]
    },
    {
      "cell_type": "code",
      "execution_count": null,
      "metadata": {
        "id": "ggkuKtO1Lhkx",
        "outputId": "ab606677-2fae-4e77-8a44-673931e2576d"
      },
      "outputs": [
        {
          "data": {
            "text/plain": [
              "11.234561521368406"
            ]
          },
          "execution_count": 108,
          "metadata": {},
          "output_type": "execute_result"
        }
      ],
      "source": [
        "credit_scoring['days_employed'].isnull().sum()/(credit_scoring['days_employed'].count())*100"
      ]
    },
    {
      "cell_type": "markdown",
      "metadata": {
        "id": "lWLuR-g4Lhky"
      },
      "source": [
        "**Kesimpulan sementara**\n",
        "\n",
        "[Apakah jumlah baris dalam tabel yang telah difilter sesuai dengan jumlah nilai yang hilang? Kesimpulan apa yang bisa kita buat dari hal ini?]\n",
        "**Ya sesuai, karena jumlah baris yang hilanng adalah 2174 dan jumlah baris tabel yang difilter juga 2174. Kesimpulannya adalah bahwa semua baris yang bermasalah dikolom days_employed dan total_income adalah karena nilainya hilang**\n",
        "\n",
        "[Hitung persentase nilai yang hilang jika dibandingkan dengan keseluruhan *dataset*. Apakah nilai yang hilang merupakan bagian data yang cukup besar? Jika demikian, Anda sebaiknya perlu mengisi nilai yang hilang. Untuk melakukannya, pertama-tama kita harus mempertimbangkan apakah data yang hilang bisa jadi disebabkan oleh karakteristik nasabah tertentu, seperti jenis pekerjaan atau yang lainnya. Anda harus memutuskan karakteristik mana yang menurut *Anda* mungkin merupakan penyebabnya. Kedua, kita harus memeriksa apakah ada ketergantungan nilai yang hilang pada nilai indikator lain dengan kolom-kolom yang mengidentifikasikan karakteristik tertentu nasabah.]\n",
        "\n",
        "**Persentase nilai yang hilang adalah sebesar 11% dan menurut saya ini cukup besar sehingga perlu diperbaiki dan diisi**\n",
        "\n",
        "[Jelaskan langkah Anda selanjutnya dan bagaimana hubungannya dengan kesimpulan yang Anda buat sejauh ini.]\n",
        "**Saya akan melakukan pengisian data berdasarkan kategori yang telah saya pertimbangkan, misalnya kolom days_employed akan saya isi sesuai dengan kategori usia dan total_income akan saya isi dengan kategori education**"
      ]
    },
    {
      "cell_type": "code",
      "execution_count": null,
      "metadata": {
        "scrolled": false,
        "id": "r5DpZN7KLhky",
        "outputId": "46ac13da-c9c0-4646-fcb4-83cba6de3dde"
      },
      "outputs": [
        {
          "data": {
            "text/plain": [
              "secondary education    1408\n",
              "bachelor's degree       496\n",
              "SECONDARY EDUCATION      67\n",
              "Secondary Education      65\n",
              "some college             55\n",
              "Bachelor's Degree        25\n",
              "BACHELOR'S DEGREE        23\n",
              "primary education        19\n",
              "SOME COLLEGE              7\n",
              "Some College              7\n",
              "Primary Education         1\n",
              "PRIMARY EDUCATION         1\n",
              "Name: education, dtype: int64"
            ]
          },
          "execution_count": 109,
          "metadata": {},
          "output_type": "execute_result"
        }
      ],
      "source": [
        "# Mari kita periksa nasabah yang tidak memiliki data tentang karakteristik yang teridentifikasi \n",
        "# dan kolom dengan nilai yang hilang\n",
        "credit_scoring.loc[(credit_scoring['days_employed'].isna() == True) & (credit_scoring['total_income'].isna() == True), 'education'].value_counts()\n"
      ]
    },
    {
      "cell_type": "code",
      "execution_count": null,
      "metadata": {
        "scrolled": true,
        "id": "Z93O-UM0Lhkz",
        "outputId": "a8f3c41a-efe8-4c01-d5fe-7cf33ce020d7"
      },
      "outputs": [
        {
          "data": {
            "text/plain": [
              " 0     66.191352\n",
              " 1     21.849126\n",
              " 2      9.383625\n",
              " 3      1.655934\n",
              " 20     0.413983\n",
              " 4      0.321987\n",
              "-1      0.137994\n",
              " 5      0.045998\n",
              "Name: children, dtype: float64"
            ]
          },
          "execution_count": 110,
          "metadata": {},
          "output_type": "execute_result"
        }
      ],
      "source": [
        "# Periksalah distribusinya\n",
        "data_nan = credit_scoring[credit_scoring['days_employed'].isnull()]\n",
        "data_nan['children'].value_counts(normalize = True)*100"
      ]
    },
    {
      "cell_type": "code",
      "execution_count": null,
      "metadata": {
        "id": "9ZkDFIckLhkz",
        "outputId": "5bd245c4-b102-4cdd-e3bd-4e7c059fa5b8"
      },
      "outputs": [
        {
          "data": {
            "text/plain": [
              "34    3.173873\n",
              "40    3.035879\n",
              "31    2.989880\n",
              "42    2.989880\n",
              "35    2.943882\n",
              "36    2.897884\n",
              "47    2.713891\n",
              "41    2.713891\n",
              "30    2.667893\n",
              "28    2.621895\n",
              "57    2.575897\n",
              "58    2.575897\n",
              "54    2.529899\n",
              "38    2.483901\n",
              "56    2.483901\n",
              "37    2.437902\n",
              "52    2.437902\n",
              "39    2.345906\n",
              "33    2.345906\n",
              "50    2.345906\n",
              "51    2.299908\n",
              "45    2.299908\n",
              "49    2.299908\n",
              "29    2.299908\n",
              "43    2.299908\n",
              "46    2.207912\n",
              "55    2.207912\n",
              "48    2.115915\n",
              "53    2.023919\n",
              "44    2.023919\n",
              "60    1.793928\n",
              "61    1.747930\n",
              "62    1.747930\n",
              "64    1.701932\n",
              "32    1.701932\n",
              "27    1.655934\n",
              "23    1.655934\n",
              "26    1.609936\n",
              "59    1.563937\n",
              "63    1.333947\n",
              "25    1.057958\n",
              "24    0.965961\n",
              "66    0.919963\n",
              "65    0.919963\n",
              "21    0.827967\n",
              "22    0.781969\n",
              "67    0.735971\n",
              "0     0.459982\n",
              "68    0.413983\n",
              "69    0.229991\n",
              "20    0.229991\n",
              "71    0.229991\n",
              "70    0.137994\n",
              "72    0.091996\n",
              "19    0.045998\n",
              "73    0.045998\n",
              "Name: dob_years, dtype: float64"
            ]
          },
          "execution_count": 111,
          "metadata": {},
          "output_type": "execute_result"
        }
      ],
      "source": [
        "data_nan['dob_years'].value_counts(normalize = True)*100"
      ]
    },
    {
      "cell_type": "code",
      "execution_count": null,
      "metadata": {
        "id": "H1NJx-1FLhk0",
        "outputId": "c593c337-be41-4ff0-ee0d-f7ee95d81435"
      },
      "outputs": [
        {
          "data": {
            "text/plain": [
              "secondary education    64.765409\n",
              "bachelor's degree      22.815087\n",
              "SECONDARY EDUCATION     3.081877\n",
              "Secondary Education     2.989880\n",
              "some college            2.529899\n",
              "Bachelor's Degree       1.149954\n",
              "BACHELOR'S DEGREE       1.057958\n",
              "primary education       0.873965\n",
              "SOME COLLEGE            0.321987\n",
              "Some College            0.321987\n",
              "Primary Education       0.045998\n",
              "PRIMARY EDUCATION       0.045998\n",
              "Name: education, dtype: float64"
            ]
          },
          "execution_count": 112,
          "metadata": {},
          "output_type": "execute_result"
        }
      ],
      "source": [
        "data_nan['education'].value_counts(normalize = True)*100"
      ]
    },
    {
      "cell_type": "code",
      "execution_count": null,
      "metadata": {
        "id": "2K8gZUNqLhk0",
        "outputId": "ddb6776c-bdf0-4f93-a161-dd722f426544"
      },
      "outputs": [
        {
          "data": {
            "text/plain": [
              "married              56.899724\n",
              "civil partnership    20.331187\n",
              "unmarried            13.247470\n",
              "divorced              5.151794\n",
              "widow / widower       4.369825\n",
              "Name: family_status, dtype: float64"
            ]
          },
          "execution_count": 113,
          "metadata": {},
          "output_type": "execute_result"
        }
      ],
      "source": [
        "data_nan['family_status'].value_counts(normalize = True)*100"
      ]
    },
    {
      "cell_type": "code",
      "execution_count": null,
      "metadata": {
        "id": "VeQyjjv7Lhk0",
        "outputId": "45a88c3f-4809-44a5-e220-0df170180bff"
      },
      "outputs": [
        {
          "data": {
            "text/plain": [
              "F    68.26127\n",
              "M    31.73873\n",
              "Name: gender, dtype: float64"
            ]
          },
          "execution_count": 114,
          "metadata": {},
          "output_type": "execute_result"
        }
      ],
      "source": [
        "data_nan['gender'].value_counts(normalize = True)*100"
      ]
    },
    {
      "cell_type": "code",
      "execution_count": null,
      "metadata": {
        "id": "TBibTdm-Lhk0",
        "outputId": "d5e48e20-f7f5-4bf4-b97d-8a4816052243"
      },
      "outputs": [
        {
          "data": {
            "text/plain": [
              "employee         50.827967\n",
              "business         23.367065\n",
              "retiree          18.997240\n",
              "civil servant     6.761730\n",
              "entrepreneur      0.045998\n",
              "Name: income_type, dtype: float64"
            ]
          },
          "execution_count": 115,
          "metadata": {},
          "output_type": "execute_result"
        }
      ],
      "source": [
        "data_nan['income_type'].value_counts(normalize = True)*100"
      ]
    },
    {
      "cell_type": "code",
      "execution_count": null,
      "metadata": {
        "id": "OwRrRPv9Lhk1",
        "outputId": "4e57837f-8548-4dd0-e62b-fd887cada839"
      },
      "outputs": [
        {
          "data": {
            "text/plain": [
              "0    92.180313\n",
              "1     7.819687\n",
              "Name: debt, dtype: float64"
            ]
          },
          "execution_count": 116,
          "metadata": {},
          "output_type": "execute_result"
        }
      ],
      "source": [
        "data_nan['debt'].value_counts(normalize = True)*100"
      ]
    },
    {
      "cell_type": "code",
      "execution_count": null,
      "metadata": {
        "id": "DsqTgz9bLhk1",
        "outputId": "96206c5c-d1c3-4042-ea77-d9dfafc308e6"
      },
      "outputs": [
        {
          "data": {
            "text/plain": [
              "having a wedding                            4.231831\n",
              "to have a wedding                           3.725851\n",
              "wedding ceremony                            3.495860\n",
              "construction of own property                3.449862\n",
              "housing transactions                        3.403864\n",
              "buy real estate                             3.311868\n",
              "transactions with my real estate            3.265869\n",
              "purchase of the house for my family         3.265869\n",
              "housing renovation                          3.219871\n",
              "transactions with commercial real estate    3.219871\n",
              "buy commercial real estate                  3.081877\n",
              "buying property for renting out             2.989880\n",
              "property                                    2.851886\n",
              "buy residential real estate                 2.805888\n",
              "real estate transactions                    2.805888\n",
              "housing                                     2.759890\n",
              "building a property                         2.713891\n",
              "cars                                        2.621895\n",
              "going to university                         2.575897\n",
              "to become educated                          2.529899\n",
              "second-hand car purchase                    2.483901\n",
              "buying my own car                           2.437902\n",
              "purchase of the house                       2.391904\n",
              "to own a car                                2.391904\n",
              "to get a supplementary education            2.345906\n",
              "getting an education                        2.299908\n",
              "supplementary education                     2.207912\n",
              "profile education                           2.161914\n",
              "purchase of my own house                    2.115915\n",
              "purchase of a car                           2.115915\n",
              "building a real estate                      2.115915\n",
              "car purchase                                1.977921\n",
              "buying a second-hand car                    1.931923\n",
              "education                                   1.931923\n",
              "car                                         1.885925\n",
              "university education                        1.839926\n",
              "getting higher education                    1.655934\n",
              "to buy a car                                1.379945\n",
              "Name: purpose, dtype: float64"
            ]
          },
          "execution_count": 117,
          "metadata": {},
          "output_type": "execute_result"
        }
      ],
      "source": [
        "data_nan['purpose'].value_counts(normalize = True)*100"
      ]
    },
    {
      "cell_type": "markdown",
      "metadata": {
        "id": "4ydNu7RNLhk1"
      },
      "source": [
        "[Deksripsikan temuan Anda di sini.]\n",
        "\n",
        "**Kolom-kolom tertentu masih harus diolah sebelum dapat disimpulkan karena masih terdapat duplikat implisit**\n",
        "\n",
        "**Kemungkinan penyebab hilangnya nilai dalam data**\n",
        "\n",
        "[Kemukakan gagasan Anda mengenai kemungkinan alasan hilangnya nilai-nilai tersebut. Apakah menurut Anda mereka hilang secara acak atau apakah terdapat pola-pola tertentu?]\n",
        "\n",
        "**Berdasarkan kolom 'debt' dapat dilihat bahwa nilai yang hilang didominasi oleh angka 0, jika diasumsikan angka nol ini memiliki arti tidak pernah gagal melunasi pinjaman. Maka dapat diartikan bahwa nasabah tersebut memang tidak ingin memberikan informasi mengenai pendapatannya**\n",
        "\n",
        "**Berdasarkan kolom 'income_type' dapat dilihat bahwa terdapat kategori retire sehingga mungkin nilai yang hilang ini disebabkan karena memang nasabah tersebut sudah pensiun dan tidak memiliki penghasilan lagi**\n",
        "\n",
        "[Mari kita mulai memeriksa apakah nilai yang hilang bersifat acak.]"
      ]
    },
    {
      "cell_type": "code",
      "execution_count": null,
      "metadata": {
        "id": "eBOVYyEpLhk2",
        "outputId": "3c22c5d3-0491-4d6f-e853-f09258b40ff8"
      },
      "outputs": [
        {
          "data": {
            "text/plain": [
              " 0     65.732869\n",
              " 1     22.383275\n",
              " 2      9.547038\n",
              " 3      1.533101\n",
              " 20     0.353078\n",
              "-1      0.218351\n",
              " 4      0.190476\n",
              " 5      0.041812\n",
              "Name: children, dtype: float64"
            ]
          },
          "execution_count": 118,
          "metadata": {},
          "output_type": "execute_result"
        }
      ],
      "source": [
        "# Memeriksa distribusi di seluruh *dataset*\n",
        "credit_scoring['children'].value_counts(normalize = True)*100\n"
      ]
    },
    {
      "cell_type": "code",
      "execution_count": null,
      "metadata": {
        "id": "oVOPbTZMLhk2",
        "outputId": "1718a8cf-832d-4f21-cec5-930b30c5b903"
      },
      "outputs": [
        {
          "data": {
            "text/plain": [
              "35    2.866434\n",
              "40    2.829268\n",
              "41    2.819977\n",
              "34    2.801394\n",
              "38    2.778165\n",
              "42    2.773519\n",
              "33    2.699187\n",
              "39    2.662021\n",
              "31    2.601626\n",
              "36    2.578397\n",
              "44    2.541231\n",
              "29    2.531940\n",
              "30    2.508711\n",
              "48    2.499419\n",
              "37    2.494774\n",
              "50    2.387921\n",
              "43    2.383275\n",
              "32    2.369338\n",
              "49    2.360046\n",
              "28    2.336818\n",
              "45    2.308943\n",
              "27    2.290360\n",
              "56    2.262485\n",
              "52    2.248548\n",
              "47    2.229965\n",
              "54    2.225319\n",
              "46    2.206736\n",
              "58    2.141696\n",
              "57    2.137050\n",
              "53    2.132404\n",
              "51    2.081301\n",
              "59    2.062718\n",
              "55    2.058072\n",
              "26    1.895470\n",
              "60    1.751452\n",
              "25    1.658537\n",
              "61    1.649245\n",
              "62    1.635308\n",
              "63    1.249710\n",
              "64    1.231127\n",
              "24    1.226481\n",
              "23    1.180023\n",
              "65    0.901278\n",
              "66    0.850174\n",
              "22    0.850174\n",
              "67    0.775842\n",
              "21    0.515679\n",
              "0     0.469222\n",
              "68    0.459930\n",
              "69    0.394890\n",
              "70    0.301974\n",
              "71    0.269454\n",
              "20    0.236934\n",
              "72    0.153310\n",
              "19    0.065041\n",
              "73    0.037166\n",
              "74    0.027875\n",
              "75    0.004646\n",
              "Name: dob_years, dtype: float64"
            ]
          },
          "execution_count": 119,
          "metadata": {},
          "output_type": "execute_result"
        }
      ],
      "source": [
        "credit_scoring['dob_years'].value_counts(normalize = True)*100"
      ]
    },
    {
      "cell_type": "code",
      "execution_count": null,
      "metadata": {
        "id": "H3tGJmYOLhk2",
        "outputId": "ed72f33f-853d-426a-fa91-3e269f4bda72"
      },
      "outputs": [
        {
          "data": {
            "text/plain": [
              "secondary education    63.879210\n",
              "bachelor's degree      21.918699\n",
              "SECONDARY EDUCATION     3.586527\n",
              "Secondary Education     3.303136\n",
              "some college            3.103368\n",
              "BACHELOR'S DEGREE       1.272938\n",
              "Bachelor's Degree       1.245064\n",
              "primary education       1.161440\n",
              "Some College            0.218351\n",
              "SOME COLLEGE            0.134727\n",
              "PRIMARY EDUCATION       0.078978\n",
              "Primary Education       0.069686\n",
              "graduate degree         0.018583\n",
              "GRADUATE DEGREE         0.004646\n",
              "Graduate Degree         0.004646\n",
              "Name: education, dtype: float64"
            ]
          },
          "execution_count": 120,
          "metadata": {},
          "output_type": "execute_result"
        }
      ],
      "source": [
        "credit_scoring['education'].value_counts(normalize = True)*100"
      ]
    },
    {
      "cell_type": "code",
      "execution_count": null,
      "metadata": {
        "id": "ErTitO9uLhk3",
        "outputId": "51d58615-157f-4b66-c337-a60955182784"
      },
      "outputs": [
        {
          "data": {
            "text/plain": [
              "married              57.514518\n",
              "civil partnership    19.405343\n",
              "unmarried            13.068525\n",
              "divorced              5.551684\n",
              "widow / widower       4.459930\n",
              "Name: family_status, dtype: float64"
            ]
          },
          "execution_count": 121,
          "metadata": {},
          "output_type": "execute_result"
        }
      ],
      "source": [
        "credit_scoring['family_status'].value_counts(normalize = True)*100"
      ]
    },
    {
      "cell_type": "code",
      "execution_count": null,
      "metadata": {
        "id": "EsWH7aMGLhk3",
        "outputId": "851db5ee-336f-4aa2-d893-bf1bfb9dd485"
      },
      "outputs": [
        {
          "data": {
            "text/plain": [
              "F      66.137050\n",
              "M      33.858304\n",
              "XNA     0.004646\n",
              "Name: gender, dtype: float64"
            ]
          },
          "execution_count": 122,
          "metadata": {},
          "output_type": "execute_result"
        }
      ],
      "source": [
        "credit_scoring['gender'].value_counts(normalize = True)*100"
      ]
    },
    {
      "cell_type": "code",
      "execution_count": null,
      "metadata": {
        "id": "ZI6pLJO0Lhk3",
        "outputId": "5a97fa31-ed1a-43bb-d5bc-28641024d829"
      },
      "outputs": [
        {
          "data": {
            "text/plain": [
              "0    91.911731\n",
              "1     8.088269\n",
              "Name: debt, dtype: float64"
            ]
          },
          "execution_count": 123,
          "metadata": {},
          "output_type": "execute_result"
        }
      ],
      "source": [
        "credit_scoring['debt'].value_counts(normalize = True)*100"
      ]
    },
    {
      "cell_type": "code",
      "execution_count": null,
      "metadata": {
        "id": "997MLLERLhk3",
        "outputId": "21c5654e-455a-4778-dd1b-4a5bb800db61"
      },
      "outputs": [
        {
          "data": {
            "text/plain": [
              "wedding ceremony                            3.702671\n",
              "having a wedding                            3.609756\n",
              "to have a wedding                           3.595819\n",
              "real estate transactions                    3.140534\n",
              "buy commercial real estate                  3.084785\n",
              "buying property for renting out             3.033682\n",
              "housing transactions                        3.033682\n",
              "transactions with commercial real estate    3.024390\n",
              "housing                                     3.005807\n",
              "purchase of the house                       3.005807\n",
              "purchase of the house for my family         2.977933\n",
              "construction of own property                2.950058\n",
              "property                                    2.945412\n",
              "transactions with my real estate            2.926829\n",
              "building a real estate                      2.908246\n",
              "buy real estate                             2.898955\n",
              "building a property                         2.880372\n",
              "purchase of my own house                    2.880372\n",
              "housing renovation                          2.843206\n",
              "buy residential real estate                 2.819977\n",
              "buying my own car                           2.346109\n",
              "going to university                         2.304297\n",
              "car                                         2.299652\n",
              "second-hand car purchase                    2.271777\n",
              "to own a car                                2.229965\n",
              "buying a second-hand car                    2.225319\n",
              "cars                                        2.220674\n",
              "to buy a car                                2.192799\n",
              "supplementary education                     2.146341\n",
              "car purchase                                2.146341\n",
              "purchase of a car                           2.113821\n",
              "university education                        2.104530\n",
              "education                                   2.076655\n",
              "to get a supplementary education            2.076655\n",
              "getting an education                        2.058072\n",
              "profile education                           2.025552\n",
              "getting higher education                    1.979094\n",
              "to become educated                          1.914053\n",
              "Name: purpose, dtype: float64"
            ]
          },
          "execution_count": 124,
          "metadata": {},
          "output_type": "execute_result"
        }
      ],
      "source": [
        "credit_scoring['purpose'].value_counts(normalize = True)*100"
      ]
    },
    {
      "cell_type": "markdown",
      "metadata": {
        "id": "Ipy_lI5jLhk3"
      },
      "source": [
        "**Kesimpulan sementara**\n",
        "\n",
        "[Apakah distribusi dalam *dataset* yang asli mirip dengan distribusi tabel yang telah difilter? Apa artinya hal tersebut untuk kita?]\n",
        "\n",
        "**Distribusi datanya masih mirip sehingga belum ada kesimpulang yang dapat ditarik, sepertinya harus dilakukan pemrosesan data dahulu terhadap datanya**\n",
        "\n",
        "[Jika menurut Anda kita belum dapat membuat kesimpulan apa pun, mari kita kembali menyelidiki *dataset* lebih lanjut. Mari pikirkan alasan lain yang dapat menyebabkan data hilang dan periksa apakah kita dapat menemukan pola tertentu yang dapat membuat kita berpikir bahwa hilangnya nilai-nilai tersebut tidak terjadi secara acak. Karena ini merupakan tugas Anda, maka bagian ini adalah opsional.]"
      ]
    },
    {
      "cell_type": "code",
      "execution_count": null,
      "metadata": {
        "id": "jhGNdfaBLhk4",
        "outputId": "e1e1b5b9-2056-43bc-df27-f5f35d83db62"
      },
      "outputs": [
        {
          "name": "stdout",
          "output_type": "stream",
          "text": [
            "['employee' 'retiree' 'business' 'civil servant' 'unemployed' 'student'\n",
            " 'entrepreneur' 'paternity / maternity leave']\n"
          ]
        }
      ],
      "source": [
        "# Periksa penyebab dan pola lain yang dapat mengakibatkan nilai yang hilang\n",
        "\n",
        "print(credit_scoring.loc[~(credit_scoring['total_income'].isna()), 'income_type'].unique())"
      ]
    },
    {
      "cell_type": "markdown",
      "metadata": {
        "id": "Nvlx-NYtLhk4"
      },
      "source": [
        "**Kesimpulan sementara**\n",
        "\n",
        "[Apakah pada akhirnya kita dapat memastikan bahwa nilai yang hilang adalah suatu kebetulan? Periksa hal lain yang menurut Anda penting di sini.]\n",
        "\n",
        "**Berdasarkan distribusi data yang hilang berdasrkan kategori gender, dapat dilihat bahwa data yang hilang didominasi oleh perempuan, sehingga ada kemungkinan memang mereka tidak bekerja sehingga nilai pada days_employed tidak diisi dan tidak memiliki income karena incomenya mungkin berasal dari suaminya**"
      ]
    },
    {
      "cell_type": "code",
      "execution_count": null,
      "metadata": {
        "scrolled": true,
        "id": "Kc0GWUnOLhk5"
      },
      "outputs": [],
      "source": [
        "# Periksa pola lainnya - jelaskan pola tersebut"
      ]
    },
    {
      "cell_type": "markdown",
      "metadata": {
        "id": "_OMq6gpqLhk5"
      },
      "source": [
        "**Kesimpulan**\n",
        "\n",
        "[Apakah Anda menemukan suatu pola? Bagaimana Anda mendapatkan kesimpulan ini?]\n",
        "\n",
        "**Berdasarkan distribusi data yang hilang berdasarkan kategori gender, dapat dilihat bahwa data yang hilang didominasi oleh perempuan, sehingga ada kemungkinan memang mereka tidak bekerja sehingga nilai pada days_employed tidak diisi dan tidak memiliki income karena incomenya mungkin berasal dari suaminya**\n",
        "\n",
        "[Jelaskan bagaimana Anda akan mengatasi nilai-nilai yang hilang. Pertimbangkan kategori dengan nilai yang hilang.]\n",
        "\n",
        "**Mencari nilai mean dan median dari kolom-kolom yang hilang, lalu melakukan pertimbangan berdasarkan kategori apa nilai yang hilang tersebut dapat diisi. Penentuan mengisi menggunakan nilai mean atau median akan saya lakukan dengan langkah berikut, melakukan pengecekan dahulu ya kolom yg ingin di fillna itu ada outliers atau tidak pakai menggunakan boxplot. Jika ada outliers maka nilai yang hilang tersebut akan diisi menggunakan median, sedangkan jika tidak nilai yang hilang tersebut akan diisi menggunakan mean**\n",
        "\n",
        "[Rencanakan secara singkat langkah Anda selanjutnya untuk mentransformasi data. Anda mungkin perlu mengatasi berbagai jenis masalah: duplikat, pencatatan yang berbeda, sumber data yang salah, dan nilai yang hilang.]\n",
        "\n",
        "**Menangani nilai duplikat -> mengisi atau memfilter nilai yang hilang -> melakukan pengelompokan data pada kolom umur**"
      ]
    },
    {
      "cell_type": "markdown",
      "metadata": {
        "id": "7XQRy8sULhk6"
      },
      "source": [
        "## Transformasi data\n",
        "\n",
        "[Mari kita perhatikan setiap kolom untuk melihat masalah apa yang mungkin dimiliki mereka.]\n",
        "\n",
        "[Mulailah dengan menghapus duplikat dan memperbaiki data tentang informasi pendidikan jika diperlukan.]"
      ]
    },
    {
      "cell_type": "code",
      "execution_count": null,
      "metadata": {
        "scrolled": true,
        "id": "Cjz0isNvLhk6",
        "outputId": "c0a107f6-ef92-4b9b-c767-1a57add58e09"
      },
      "outputs": [
        {
          "data": {
            "text/plain": [
              "secondary education    13750\n",
              "bachelor's degree       4718\n",
              "SECONDARY EDUCATION      772\n",
              "Secondary Education      711\n",
              "some college             668\n",
              "BACHELOR'S DEGREE        274\n",
              "Bachelor's Degree        268\n",
              "primary education        250\n",
              "Some College              47\n",
              "SOME COLLEGE              29\n",
              "PRIMARY EDUCATION         17\n",
              "Primary Education         15\n",
              "graduate degree            4\n",
              "GRADUATE DEGREE            1\n",
              "Graduate Degree            1\n",
              "Name: education, dtype: int64"
            ]
          },
          "execution_count": 127,
          "metadata": {},
          "output_type": "execute_result"
        }
      ],
      "source": [
        "# Mari kita lihat semua nilai di kolom pendidikan untuk memeriksa ejaan apa yang perlu diperbaiki\n",
        "credit_scoring['education'].value_counts()"
      ]
    },
    {
      "cell_type": "code",
      "execution_count": null,
      "metadata": {
        "scrolled": true,
        "id": "HP8trYx5Lhk7"
      },
      "outputs": [],
      "source": [
        "# Perbaiki pencatatan jika diperlukan\n",
        "credit_scoring['education'] = credit_scoring['education'].str.lower()"
      ]
    },
    {
      "cell_type": "code",
      "execution_count": null,
      "metadata": {
        "id": "RdO97C4NLhk7",
        "outputId": "397ea05a-31e4-476f-ab45-f45b58a7d6b9"
      },
      "outputs": [
        {
          "data": {
            "text/plain": [
              "secondary education    15233\n",
              "bachelor's degree       5260\n",
              "some college             744\n",
              "primary education        282\n",
              "graduate degree            6\n",
              "Name: education, dtype: int64"
            ]
          },
          "execution_count": 129,
          "metadata": {},
          "output_type": "execute_result"
        }
      ],
      "source": [
        "# Periksa semua nilai di kolom untuk memastikan bahwa kita telah memperbaikinya dengan tepat\n",
        "credit_scoring['education'].value_counts()\n"
      ]
    },
    {
      "cell_type": "markdown",
      "metadata": {
        "id": "wB3rRSFiLhk7"
      },
      "source": [
        "[Periksa data kolom `children`]"
      ]
    },
    {
      "cell_type": "code",
      "execution_count": null,
      "metadata": {
        "scrolled": true,
        "id": "t1FfvDZyLhk7",
        "outputId": "f5b6f264-8562-4fb7-9711-810af9b0d47d"
      },
      "outputs": [
        {
          "data": {
            "text/plain": [
              " 0     14149\n",
              " 1      4818\n",
              " 2      2055\n",
              " 3       330\n",
              " 20       76\n",
              "-1        47\n",
              " 4        41\n",
              " 5         9\n",
              "Name: children, dtype: int64"
            ]
          },
          "execution_count": 130,
          "metadata": {},
          "output_type": "execute_result"
        }
      ],
      "source": [
        "# Mari kita lihat distribusi nilai pada kolom `children`\n",
        "credit_scoring['children'].value_counts()"
      ]
    },
    {
      "cell_type": "markdown",
      "metadata": {
        "id": "aJS8zJfJLhk8"
      },
      "source": [
        "[Apakah terdapat hal-hal yang aneh di kolom tersebut? Bagaimana mereka bisa terjadi? Buat keputusan tentang apa yang akan Anda lakukan dengan data ini dan jelaskan alasannya.]\n",
        "\n",
        "**terdapat nilai -1 dan nilai 20 pada kolom children, hal ini sedikit aneh karena tidak mungkin nilai anak adalah -1 dan nilai 20 cukup aneh karena jumlahnya terlalu banyak. Nilai 20 akan saya konversi menjadi nilai 2 karena posisi nol dan dua pada numpad berdekatan sehingga bisa saja terjadi salah penginputan data, sedangkan untuk nilai -1 akan saya filter umur yang bernilai lebih besar dari nol karena saya tidak mendapatkan alasan yang jelas mengapa bisa terdapat nilai minus didepan angkanya**"
      ]
    },
    {
      "cell_type": "code",
      "execution_count": null,
      "metadata": {
        "id": "Bq85JeXfLhk8"
      },
      "outputs": [],
      "source": [
        "# [perbaiki data berdasarkan keputusan Anda]\n",
        "credit_scoring.loc[credit_scoring['children'] == 20, ['children']] = 2\n",
        "drop_index_children = credit_scoring[credit_scoring['children'] == -1].index\n",
        "credit_scoring = credit_scoring.drop(drop_index_children)"
      ]
    },
    {
      "cell_type": "code",
      "execution_count": null,
      "metadata": {
        "scrolled": true,
        "id": "tTFTrCdMLhk9",
        "outputId": "2df79177-0fff-47c6-d028-c0006bb5ce3e"
      },
      "outputs": [
        {
          "data": {
            "text/plain": [
              "0    14149\n",
              "1     4818\n",
              "2     2131\n",
              "3      330\n",
              "4       41\n",
              "5        9\n",
              "Name: children, dtype: int64"
            ]
          },
          "execution_count": 132,
          "metadata": {},
          "output_type": "execute_result"
        }
      ],
      "source": [
        "# Periksa kembali kolom `children` untuk memastikan bahwa semuanya telah diperbaiki\n",
        "credit_scoring['children'].value_counts()\n"
      ]
    },
    {
      "cell_type": "markdown",
      "metadata": {
        "id": "fuPGaezVLhk9"
      },
      "source": [
        "[Periksa data dalam kolom the `days_employed`. Pertama-tama pikirkan tentang masalah apa yang mungkin ada pada kolom tersebut, serta pikirkan juga apa yang mungkin ingin Anda periksa dan bagaimana Anda akan melakukannya.]"
      ]
    },
    {
      "cell_type": "code",
      "execution_count": null,
      "metadata": {
        "id": "OCUf3ALTLhk9",
        "outputId": "0a9aab9b-ced7-4457-c822-e063387a9d4b"
      },
      "outputs": [
        {
          "data": {
            "text/plain": [
              "0.73884905484682"
            ]
          },
          "execution_count": 133,
          "metadata": {},
          "output_type": "execute_result"
        }
      ],
      "source": [
        "# Temukan data yang bermasalah di `days_employed`, jika memang terdapat masalah, \n",
        "# dan hitung persentasenya\n",
        "credit_scoring[credit_scoring['days_employed'] < 0 ]\n",
        "len(credit_scoring.loc[credit_scoring['days_employed'] < 0]) / len(credit_scoring)"
      ]
    },
    {
      "cell_type": "markdown",
      "metadata": {
        "id": "kLTMu5L8Lhk9"
      },
      "source": [
        "[Jika jumlah data yang bermasalah tinggi, hal tersebut mungkin disebabkan oleh beberapa masalah teknis. Kami mungkin perlu mengusulkan alasan paling jelas mengapa hal tersebut dapat terjadi dan bagaimana seharusnya data yang benar, mengingat kita tidak dapat menghapus baris yang bermasalah ini.]"
      ]
    },
    {
      "cell_type": "code",
      "execution_count": null,
      "metadata": {
        "scrolled": true,
        "id": "irtyUXjTLhk-"
      },
      "outputs": [],
      "source": [
        "# Atasi nilai yang bermasalah, jika ada\n",
        "credit_scoring['days_employed'] = credit_scoring.loc[:,'days_employed'].abs()"
      ]
    },
    {
      "cell_type": "code",
      "execution_count": null,
      "metadata": {
        "id": "JtzQSxGqLhk-",
        "outputId": "c8aa2284-c12f-434e-e2db-34168deffd39"
      },
      "outputs": [
        {
          "data": {
            "text/html": [
              "<div>\n",
              "<style scoped>\n",
              "    .dataframe tbody tr th:only-of-type {\n",
              "        vertical-align: middle;\n",
              "    }\n",
              "\n",
              "    .dataframe tbody tr th {\n",
              "        vertical-align: top;\n",
              "    }\n",
              "\n",
              "    .dataframe thead th {\n",
              "        text-align: right;\n",
              "    }\n",
              "</style>\n",
              "<table border=\"1\" class=\"dataframe\">\n",
              "  <thead>\n",
              "    <tr style=\"text-align: right;\">\n",
              "      <th></th>\n",
              "      <th>children</th>\n",
              "      <th>days_employed</th>\n",
              "      <th>dob_years</th>\n",
              "      <th>education</th>\n",
              "      <th>education_id</th>\n",
              "      <th>family_status</th>\n",
              "      <th>family_status_id</th>\n",
              "      <th>gender</th>\n",
              "      <th>income_type</th>\n",
              "      <th>debt</th>\n",
              "      <th>total_income</th>\n",
              "      <th>purpose</th>\n",
              "    </tr>\n",
              "  </thead>\n",
              "  <tbody>\n",
              "  </tbody>\n",
              "</table>\n",
              "</div>"
            ],
            "text/plain": [
              "Empty DataFrame\n",
              "Columns: [children, days_employed, dob_years, education, education_id, family_status, family_status_id, gender, income_type, debt, total_income, purpose]\n",
              "Index: []"
            ]
          },
          "execution_count": 135,
          "metadata": {},
          "output_type": "execute_result"
        }
      ],
      "source": [
        "# Periksa hasilnya - pastikan bahwa masalahnya telah diperbaiki\n",
        "credit_scoring[credit_scoring['days_employed'] < 0 ]"
      ]
    },
    {
      "cell_type": "markdown",
      "metadata": {
        "id": "kgmRqJ4ULhk_"
      },
      "source": [
        "[Sekarang mari kita lihat usia nasabah dan mengecek apakah terdapat masalah di sana. Sekali lagi, pikirkan tentang kemungkinan kejanggalan apa yang bisa kita temui dalam kolom ini, misalnya angka usia yang tidak masuk akal.]"
      ]
    },
    {
      "cell_type": "code",
      "execution_count": null,
      "metadata": {
        "id": "8Pj-crrTLhk_",
        "outputId": "86ecdff5-8e46-489c-b4c5-9f758da37ce2"
      },
      "outputs": [
        {
          "data": {
            "text/plain": [
              "35    616\n",
              "40    607\n",
              "41    605\n",
              "34    600\n",
              "38    596\n",
              "42    595\n",
              "33    579\n",
              "39    573\n",
              "31    558\n",
              "36    555\n",
              "29    545\n",
              "44    545\n",
              "30    539\n",
              "48    537\n",
              "37    535\n",
              "50    512\n",
              "43    512\n",
              "49    508\n",
              "32    508\n",
              "28    501\n",
              "45    497\n",
              "27    492\n",
              "56    487\n",
              "52    484\n",
              "47    480\n",
              "54    477\n",
              "46    472\n",
              "58    461\n",
              "53    458\n",
              "57    458\n",
              "51    447\n",
              "59    443\n",
              "55    442\n",
              "26    407\n",
              "60    377\n",
              "25    357\n",
              "61    354\n",
              "62    352\n",
              "63    268\n",
              "24    264\n",
              "64    264\n",
              "23    253\n",
              "65    194\n",
              "66    183\n",
              "22    183\n",
              "67    167\n",
              "21    111\n",
              "0     101\n",
              "68     99\n",
              "69     84\n",
              "70     65\n",
              "71     58\n",
              "20     51\n",
              "72     33\n",
              "19     14\n",
              "73      8\n",
              "74      6\n",
              "75      1\n",
              "Name: dob_years, dtype: int64"
            ]
          },
          "execution_count": 136,
          "metadata": {},
          "output_type": "execute_result"
        }
      ],
      "source": [
        "# Periksa `dob_years` untuk nilai yang mencurigakan dan hitung persentasenya\n",
        "credit_scoring['dob_years'].value_counts()\n"
      ]
    },
    {
      "cell_type": "markdown",
      "metadata": {
        "id": "Dw-BwLdjLhk_"
      },
      "source": [
        "[Putuskan apa yang akan Anda lakukan dengan nilai yang bermasalah dan jelaskan alasannya.]\n",
        "\n",
        "**Saya akan melakukan filter data untuk menghilangkan data dengan umur nasabah = 0, karena umur nasabah tidak mungkin nol dan persentase jumlah nasabah yang umurnya nol juga kecil sehingga seharusnya tidak terlalu mempengaruhi hasil penggujian**"
      ]
    },
    {
      "cell_type": "code",
      "execution_count": null,
      "metadata": {
        "id": "SoXqLTRILhlA"
      },
      "outputs": [],
      "source": [
        "# Atasi masalah pada kolom `dob_years`, jika terdapat masalah\n",
        "drop_index_dob_years = credit_scoring[credit_scoring['dob_years'] <= 0].index\n",
        "credit_scoring.drop(drop_index_dob_years, inplace=True)"
      ]
    },
    {
      "cell_type": "code",
      "execution_count": null,
      "metadata": {
        "scrolled": true,
        "id": "E4MDh8djLhlB",
        "outputId": "15c4ba3b-b3fd-433f-914c-bb88bd703983"
      },
      "outputs": [
        {
          "data": {
            "text/plain": [
              "35    616\n",
              "40    607\n",
              "41    605\n",
              "34    600\n",
              "38    596\n",
              "42    595\n",
              "33    579\n",
              "39    573\n",
              "31    558\n",
              "36    555\n",
              "44    545\n",
              "29    545\n",
              "30    539\n",
              "48    537\n",
              "37    535\n",
              "43    512\n",
              "50    512\n",
              "49    508\n",
              "32    508\n",
              "28    501\n",
              "45    497\n",
              "27    492\n",
              "56    487\n",
              "52    484\n",
              "47    480\n",
              "54    477\n",
              "46    472\n",
              "58    461\n",
              "57    458\n",
              "53    458\n",
              "51    447\n",
              "59    443\n",
              "55    442\n",
              "26    407\n",
              "60    377\n",
              "25    357\n",
              "61    354\n",
              "62    352\n",
              "63    268\n",
              "64    264\n",
              "24    264\n",
              "23    253\n",
              "65    194\n",
              "22    183\n",
              "66    183\n",
              "67    167\n",
              "21    111\n",
              "68     99\n",
              "69     84\n",
              "70     65\n",
              "71     58\n",
              "20     51\n",
              "72     33\n",
              "19     14\n",
              "73      8\n",
              "74      6\n",
              "75      1\n",
              "Name: dob_years, dtype: int64"
            ]
          },
          "execution_count": 138,
          "metadata": {},
          "output_type": "execute_result"
        }
      ],
      "source": [
        "# Periksa hasilnya - pastikan bahwa masalahnya telah diperbaiki\n",
        "credit_scoring['dob_years'].value_counts()"
      ]
    },
    {
      "cell_type": "markdown",
      "metadata": {
        "id": "dId8dTi3LhlB"
      },
      "source": [
        "[Sekarang saatnya memeriksa kolom `family_status`. Periksalah nilai seperti apa yang dimuat di dalam kolom ini dan masalah apa yang mungkin perlu Anda atasi.]"
      ]
    },
    {
      "cell_type": "code",
      "execution_count": null,
      "metadata": {
        "id": "99FjSybMLhlB",
        "outputId": "d2a0836c-a454-44b2-be8c-eca139270f59"
      },
      "outputs": [
        {
          "data": {
            "text/plain": [
              "married              12302\n",
              "civil partnership     4151\n",
              "unmarried             2792\n",
              "divorced              1181\n",
              "widow / widower        951\n",
              "Name: family_status, dtype: int64"
            ]
          },
          "execution_count": 139,
          "metadata": {},
          "output_type": "execute_result"
        }
      ],
      "source": [
        "# Mari kita lihat nilai untuk kolom ini\n",
        "credit_scoring['family_status'].value_counts()\n"
      ]
    },
    {
      "cell_type": "code",
      "execution_count": null,
      "metadata": {
        "id": "uKjFUtkzLhlC"
      },
      "outputs": [],
      "source": [
        "# Atasi nilai yang bermasalah di `family_status`, jika ada\n",
        "credit_scoring.loc[credit_scoring['family_status'] == 'widow / widower', ['family_status']] = 'divorced'\n"
      ]
    },
    {
      "cell_type": "code",
      "execution_count": null,
      "metadata": {
        "id": "yrji7qayLhlC",
        "outputId": "f60e741c-be9f-41fd-e88b-0a86daff5b89"
      },
      "outputs": [
        {
          "data": {
            "text/plain": [
              "married              12302\n",
              "civil partnership     4151\n",
              "unmarried             2792\n",
              "divorced              2132\n",
              "Name: family_status, dtype: int64"
            ]
          },
          "execution_count": 141,
          "metadata": {},
          "output_type": "execute_result"
        }
      ],
      "source": [
        "# Periksa hasilnya - pastikan nilainya telah diperbaiki\n",
        "credit_scoring['family_status'].value_counts()"
      ]
    },
    {
      "cell_type": "markdown",
      "metadata": {
        "id": "Yziadv-JLhlC"
      },
      "source": [
        "[Sekarang saatnya memeriksa kolom `gender`. Periksalah nilai seperti apa yang dimuat di dalam kolom ini dan masalah apa yang mungkin perlu Anda atasi]"
      ]
    },
    {
      "cell_type": "code",
      "execution_count": null,
      "metadata": {
        "scrolled": true,
        "id": "gphs90ENLhlD",
        "outputId": "ba74f3ab-cc5f-4938-ab18-4250b5daee69"
      },
      "outputs": [
        {
          "data": {
            "text/plain": [
              "F      14129\n",
              "M       7247\n",
              "XNA        1\n",
              "Name: gender, dtype: int64"
            ]
          },
          "execution_count": 142,
          "metadata": {},
          "output_type": "execute_result"
        }
      ],
      "source": [
        "# Mari kita liat nilai dalam kolom ini\n",
        "credit_scoring['gender'].value_counts()"
      ]
    },
    {
      "cell_type": "code",
      "execution_count": null,
      "metadata": {
        "id": "pEyojE2pLhlD"
      },
      "outputs": [],
      "source": [
        "# Atasi nilai-nilai yang bermasalah, jika ada\n",
        "drop_index_gender = credit_scoring[credit_scoring['gender'] == 'XNA'].index\n",
        "credit_scoring.drop(index = drop_index_gender, inplace = True)"
      ]
    },
    {
      "cell_type": "code",
      "execution_count": null,
      "metadata": {
        "id": "sXwoY0RPLhlF",
        "outputId": "19c8ae49-5cba-467f-bf09-a9f6d55474d8"
      },
      "outputs": [
        {
          "data": {
            "text/plain": [
              "F    14129\n",
              "M     7247\n",
              "Name: gender, dtype: int64"
            ]
          },
          "execution_count": 144,
          "metadata": {},
          "output_type": "execute_result"
        }
      ],
      "source": [
        "# Periksa hasilnya - pastikan bahwa masalahnya telah diperbaiki\n",
        "credit_scoring['gender'].value_counts()\n"
      ]
    },
    {
      "cell_type": "markdown",
      "metadata": {
        "id": "Yr3mjAFILhlF"
      },
      "source": [
        "[Sekarang saatnya memeriksa kolom `income_type`. Periksalah nilai seperti apa yang dimuat di dalam kolom ini dan masalah apa yang mungkin perlu Anda atasi]"
      ]
    },
    {
      "cell_type": "code",
      "execution_count": null,
      "metadata": {
        "scrolled": true,
        "id": "BLnPMyYQLhlF",
        "outputId": "ddf7161e-6283-4538-9540-51068900a3ea"
      },
      "outputs": [
        {
          "data": {
            "text/plain": [
              "employee                       11038\n",
              "business                        5055\n",
              "retiree                         3828\n",
              "civil servant                   1449\n",
              "entrepreneur                       2\n",
              "unemployed                         2\n",
              "paternity / maternity leave        1\n",
              "student                            1\n",
              "Name: income_type, dtype: int64"
            ]
          },
          "execution_count": 145,
          "metadata": {},
          "output_type": "execute_result"
        }
      ],
      "source": [
        "# Mari kita lihat nilai dalam kolom ini\n",
        "credit_scoring['income_type'].value_counts()"
      ]
    },
    {
      "cell_type": "code",
      "execution_count": null,
      "metadata": {
        "id": "zH5ZnbFXLhlG"
      },
      "outputs": [],
      "source": [
        "# Atasi nilai yang bermasalah, jika ada\n",
        "drop_index_income = credit_scoring[(credit_scoring['income_type'] == 'unemployed') |\n",
        "                                   (credit_scoring['income_type'] == 'paternity / maternity leave') |\n",
        "                                   (credit_scoring['income_type'] == 'student')].index\n",
        "credit_scoring = credit_scoring.drop(drop_index_income)"
      ]
    },
    {
      "cell_type": "code",
      "execution_count": null,
      "metadata": {
        "id": "91Hw4DAiLhlG"
      },
      "outputs": [],
      "source": [
        "credit_scoring['income_type'] = credit_scoring['income_type'].replace(\n",
        "    'entrepreneur', 'business')"
      ]
    },
    {
      "cell_type": "code",
      "execution_count": null,
      "metadata": {
        "id": "MxLQOXMdLhlG",
        "outputId": "17c3af5e-124c-41d2-cd80-9d6796cbeb55"
      },
      "outputs": [
        {
          "data": {
            "text/plain": [
              "employee         11038\n",
              "business          5057\n",
              "retiree           3828\n",
              "civil servant     1449\n",
              "Name: income_type, dtype: int64"
            ]
          },
          "execution_count": 148,
          "metadata": {},
          "output_type": "execute_result"
        }
      ],
      "source": [
        "# Periksa hasilnya - pastikan bahwa masalahnya telah diperbaiki\n",
        "credit_scoring['income_type'].value_counts()"
      ]
    },
    {
      "cell_type": "markdown",
      "metadata": {
        "id": "bHL_kdgWLhlH"
      },
      "source": [
        "**Disini Saya melakukan perbaikan data dengan mendrop income_type = 'unemployed, 'paternity / maternity leave' dan 'student' karena menurut saya posisi tersebut tidak mendapatkan pendapatan dan saya mengganti income_type = 'entrepreneur' menjadi 'business' karena menurut saya kategori tersebut indentik**"
      ]
    },
    {
      "cell_type": "code",
      "execution_count": null,
      "metadata": {
        "id": "_zcYDrZnLhlH",
        "outputId": "e60ba6fe-3247-4bc3-cc1b-45edabb94ed1"
      },
      "outputs": [
        {
          "data": {
            "text/plain": [
              "wedding ceremony                            792\n",
              "having a wedding                            772\n",
              "to have a wedding                           768\n",
              "real estate transactions                    671\n",
              "buy commercial real estate                  661\n",
              "buying property for renting out             649\n",
              "transactions with commercial real estate    648\n",
              "housing transactions                        646\n",
              "housing                                     640\n",
              "purchase of the house for my family         640\n",
              "purchase of the house                       638\n",
              "construction of own property                631\n",
              "property                                    629\n",
              "transactions with my real estate            627\n",
              "building a property                         620\n",
              "building a real estate                      620\n",
              "purchase of my own house                    618\n",
              "buy real estate                             617\n",
              "housing renovation                          608\n",
              "buy residential real estate                 602\n",
              "buying my own car                           501\n",
              "going to university                         493\n",
              "car                                         488\n",
              "second-hand car purchase                    486\n",
              "buying a second-hand car                    478\n",
              "to own a car                                475\n",
              "cars                                        475\n",
              "to buy a car                                466\n",
              "supplementary education                     458\n",
              "car purchase                                458\n",
              "purchase of a car                           454\n",
              "university education                        449\n",
              "to get a supplementary education            444\n",
              "education                                   441\n",
              "getting an education                        441\n",
              "profile education                           433\n",
              "getting higher education                    424\n",
              "to become educated                          411\n",
              "Name: purpose, dtype: int64"
            ]
          },
          "execution_count": 149,
          "metadata": {},
          "output_type": "execute_result"
        }
      ],
      "source": [
        "#transformasi data purpose\n",
        "credit_scoring['purpose'].value_counts()"
      ]
    },
    {
      "cell_type": "code",
      "execution_count": null,
      "metadata": {
        "id": "jAK9ehB7LhlI"
      },
      "outputs": [],
      "source": [
        "def replace_purpose(purpose):\n",
        "    for i in purpose.split(' '):\n",
        "        if 'wedding' in i:\n",
        "            return 'wedding'\n",
        "        elif 'estate' in i:\n",
        "            return 'property related'\n",
        "        elif 'property' in i:\n",
        "            return 'property related'\n",
        "        elif 'housing' in i:\n",
        "            return 'property related'\n",
        "        elif 'house' in i:\n",
        "            return 'property related'\n",
        "        elif 'car' in i:\n",
        "            return 'car related'\n",
        "        elif 'cars' in i:\n",
        "            return 'car related'\n",
        "        elif 'university' in i:\n",
        "            return 'education related'\n",
        "        elif 'education' in i:\n",
        "            return 'education related'\n",
        "        elif 'educated' in i:\n",
        "            return 'education related'"
      ]
    },
    {
      "cell_type": "code",
      "execution_count": null,
      "metadata": {
        "id": "vOvyP5UeLhlI"
      },
      "outputs": [],
      "source": [
        "credit_scoring['purpose'] = credit_scoring['purpose'].apply(replace_purpose)"
      ]
    },
    {
      "cell_type": "code",
      "execution_count": null,
      "metadata": {
        "id": "6c_LSTETLhlJ",
        "outputId": "6d3e6d93-d0a2-4468-a4c0-d31270b4dcda"
      },
      "outputs": [
        {
          "data": {
            "text/plain": [
              "property related     10765\n",
              "car related           4281\n",
              "education related     3994\n",
              "wedding               2332\n",
              "Name: purpose, dtype: int64"
            ]
          },
          "execution_count": 152,
          "metadata": {},
          "output_type": "execute_result"
        }
      ],
      "source": [
        "credit_scoring['purpose'].value_counts()"
      ]
    },
    {
      "cell_type": "markdown",
      "metadata": {
        "id": "nmmPEYp_LhlJ"
      },
      "source": [
        "[Sekarang saatnya melihat apakah ada duplikat di dalam data kita. Jika kita menemukannya, Anda harus memutuskan apa yang akan Anda lakukan dengan duplikat tersebut dan menjelaskan alasannya.]"
      ]
    },
    {
      "cell_type": "code",
      "execution_count": null,
      "metadata": {
        "id": "D49MC8Z3LhlJ",
        "outputId": "3598dea5-4ba5-4e64-e189-36eeee5e6281"
      },
      "outputs": [
        {
          "data": {
            "text/plain": [
              "False    20968\n",
              "True       404\n",
              "dtype: int64"
            ]
          },
          "execution_count": 153,
          "metadata": {},
          "output_type": "execute_result"
        }
      ],
      "source": [
        "# Periksa duplikat\n",
        "credit_scoring.duplicated().value_counts()\n"
      ]
    },
    {
      "cell_type": "code",
      "execution_count": null,
      "metadata": {
        "id": "aWpMmB97LhlK"
      },
      "outputs": [],
      "source": [
        "# Atasi duplikat, jika ada\n",
        "credit_scoring = credit_scoring.drop_duplicates().reset_index(drop=True)"
      ]
    },
    {
      "cell_type": "code",
      "execution_count": null,
      "metadata": {
        "id": "ktfhPt1mLhlK",
        "outputId": "3b55ed94-fe7f-46a1-9ed7-ef56b85b3434"
      },
      "outputs": [
        {
          "data": {
            "text/plain": [
              "False    20968\n",
              "dtype: int64"
            ]
          },
          "execution_count": 155,
          "metadata": {},
          "output_type": "execute_result"
        }
      ],
      "source": [
        "# Lakukan pemeriksaan terakhir untuk mengecek apakah kita memiliki duplikat\n",
        "credit_scoring.duplicated().value_counts()"
      ]
    },
    {
      "cell_type": "code",
      "execution_count": null,
      "metadata": {
        "id": "2CrvZOBcLhlL",
        "outputId": "98baa6ed-cdad-4cf9-8bec-8c4ff8c0ecf6"
      },
      "outputs": [
        {
          "data": {
            "text/plain": [
              "(20968, 12)"
            ]
          },
          "execution_count": 156,
          "metadata": {},
          "output_type": "execute_result"
        }
      ],
      "source": [
        "# Periksa ukuran dataset yang sekarang Anda miliki setelah manipulasi pertama yang Anda lakukan\n",
        "credit_scoring.shape"
      ]
    },
    {
      "cell_type": "markdown",
      "metadata": {
        "id": "urTab1DELhlL"
      },
      "source": [
        "[Jelaskan *dataset* baru Anda: jelaskan secara singkat apa saja perubahannya dan seberapa besar persentase perubahannya, jika ada.]\n",
        "\n",
        "**Pengurangan/drop data berdasarkan kolom:**\n",
        "\n",
        "    1. Children    -> baris dengan kolom children < 0 di drop\n",
        "    2. dob_years   -> baris dengan kolom dob years < 1 di drop\n",
        "    3. gender      -> baris dengan kolom gender = 'XNA' di drop\n",
        "    4. income_type -> baris dengan kolom income_type = 'unemployed' di drop\n",
        "    5. drop duplicates\n",
        "\n",
        "**Perubahannya adalah sebesar 2,6 %**\n"
      ]
    },
    {
      "cell_type": "markdown",
      "metadata": {
        "id": "yFWIvK37LhlM"
      },
      "source": [
        "# Bekerja dengan nilai yang hilang"
      ]
    },
    {
      "cell_type": "markdown",
      "metadata": {
        "id": "EwgLhDlpLhlM"
      },
      "source": [
        "[Untuk mempercepat pekerjaan dengan sejumlah data, Anda mungkin ingin menggunakan *dictionary* untuk beberapa nilai yang memiliki ID. Jelaskan mengapa dan *dictionary* apakah yang akan Anda gunakan.]"
      ]
    },
    {
      "cell_type": "code",
      "execution_count": null,
      "metadata": {
        "id": "lDb1aDQALhlM",
        "outputId": "9801c6b2-7aaf-4bf1-e145-bd425b6e9b9d"
      },
      "outputs": [
        {
          "data": {
            "text/html": [
              "<div>\n",
              "<style scoped>\n",
              "    .dataframe tbody tr th:only-of-type {\n",
              "        vertical-align: middle;\n",
              "    }\n",
              "\n",
              "    .dataframe tbody tr th {\n",
              "        vertical-align: top;\n",
              "    }\n",
              "\n",
              "    .dataframe thead th {\n",
              "        text-align: right;\n",
              "    }\n",
              "</style>\n",
              "<table border=\"1\" class=\"dataframe\">\n",
              "  <thead>\n",
              "    <tr style=\"text-align: right;\">\n",
              "      <th></th>\n",
              "      <th>education_id</th>\n",
              "      <th>education</th>\n",
              "    </tr>\n",
              "  </thead>\n",
              "  <tbody>\n",
              "    <tr>\n",
              "      <th>0</th>\n",
              "      <td>0</td>\n",
              "      <td>bachelor's degree</td>\n",
              "    </tr>\n",
              "    <tr>\n",
              "      <th>1</th>\n",
              "      <td>1</td>\n",
              "      <td>secondary education</td>\n",
              "    </tr>\n",
              "    <tr>\n",
              "      <th>2</th>\n",
              "      <td>2</td>\n",
              "      <td>some college</td>\n",
              "    </tr>\n",
              "    <tr>\n",
              "      <th>3</th>\n",
              "      <td>3</td>\n",
              "      <td>primary education</td>\n",
              "    </tr>\n",
              "    <tr>\n",
              "      <th>4</th>\n",
              "      <td>4</td>\n",
              "      <td>graduate degree</td>\n",
              "    </tr>\n",
              "  </tbody>\n",
              "</table>\n",
              "</div>"
            ],
            "text/plain": [
              "   education_id            education\n",
              "0             0    bachelor's degree\n",
              "1             1  secondary education\n",
              "2             2         some college\n",
              "3             3    primary education\n",
              "4             4      graduate degree"
            ]
          },
          "execution_count": 157,
          "metadata": {},
          "output_type": "execute_result"
        }
      ],
      "source": [
        "# Temukan dictionary\n",
        "education_dict = credit_scoring[['education_id', 'education']]\n",
        "education_dict = education_dict.drop_duplicates().reset_index(drop=True)\n",
        "education_dict"
      ]
    },
    {
      "cell_type": "code",
      "execution_count": null,
      "metadata": {
        "id": "Rnr4vGA4LhlM",
        "outputId": "cde750b2-05c6-4b4c-a961-9894272be8aa"
      },
      "outputs": [
        {
          "data": {
            "text/html": [
              "<div>\n",
              "<style scoped>\n",
              "    .dataframe tbody tr th:only-of-type {\n",
              "        vertical-align: middle;\n",
              "    }\n",
              "\n",
              "    .dataframe tbody tr th {\n",
              "        vertical-align: top;\n",
              "    }\n",
              "\n",
              "    .dataframe thead tr th {\n",
              "        text-align: left;\n",
              "    }\n",
              "\n",
              "    .dataframe thead tr:last-of-type th {\n",
              "        text-align: right;\n",
              "    }\n",
              "</style>\n",
              "<table border=\"1\" class=\"dataframe\">\n",
              "  <thead>\n",
              "    <tr>\n",
              "      <th></th>\n",
              "      <th colspan=\"2\" halign=\"left\">days_employed</th>\n",
              "      <th colspan=\"2\" halign=\"left\">total_income</th>\n",
              "    </tr>\n",
              "    <tr>\n",
              "      <th></th>\n",
              "      <th>mean</th>\n",
              "      <th>median</th>\n",
              "      <th>mean</th>\n",
              "      <th>median</th>\n",
              "    </tr>\n",
              "    <tr>\n",
              "      <th>education</th>\n",
              "      <th></th>\n",
              "      <th></th>\n",
              "      <th></th>\n",
              "      <th></th>\n",
              "    </tr>\n",
              "  </thead>\n",
              "  <tbody>\n",
              "    <tr>\n",
              "      <th>bachelor's degree</th>\n",
              "      <td>42289.492099</td>\n",
              "      <td>1895.223639</td>\n",
              "      <td>33187.085767</td>\n",
              "      <td>28086.3810</td>\n",
              "    </tr>\n",
              "    <tr>\n",
              "      <th>graduate degree</th>\n",
              "      <td>121323.630206</td>\n",
              "      <td>5660.057032</td>\n",
              "      <td>27960.024667</td>\n",
              "      <td>25161.5835</td>\n",
              "    </tr>\n",
              "    <tr>\n",
              "      <th>primary education</th>\n",
              "      <td>130340.426349</td>\n",
              "      <td>3043.933615</td>\n",
              "      <td>21144.882211</td>\n",
              "      <td>18741.9760</td>\n",
              "    </tr>\n",
              "    <tr>\n",
              "      <th>secondary education</th>\n",
              "      <td>76390.077685</td>\n",
              "      <td>2392.483697</td>\n",
              "      <td>24606.446710</td>\n",
              "      <td>21838.1685</td>\n",
              "    </tr>\n",
              "    <tr>\n",
              "      <th>some college</th>\n",
              "      <td>20762.876613</td>\n",
              "      <td>1209.128083</td>\n",
              "      <td>29003.215940</td>\n",
              "      <td>25599.1250</td>\n",
              "    </tr>\n",
              "  </tbody>\n",
              "</table>\n",
              "</div>"
            ],
            "text/plain": [
              "                     days_employed               total_income            \n",
              "                              mean       median          mean      median\n",
              "education                                                                \n",
              "bachelor's degree     42289.492099  1895.223639  33187.085767  28086.3810\n",
              "graduate degree      121323.630206  5660.057032  27960.024667  25161.5835\n",
              "primary education    130340.426349  3043.933615  21144.882211  18741.9760\n",
              "secondary education   76390.077685  2392.483697  24606.446710  21838.1685\n",
              "some college          20762.876613  1209.128083  29003.215940  25599.1250"
            ]
          },
          "execution_count": 158,
          "metadata": {},
          "output_type": "execute_result"
        }
      ],
      "source": [
        "cs_days_employed_grouped = credit_scoring.groupby('education').agg({'days_employed':['mean', 'median']})\n",
        "cs_total_income_grouped = credit_scoring.groupby('education').agg({'total_income':['mean', 'median']})\n",
        "\n",
        "cs_grouped = cs_days_employed_grouped.merge(cs_total_income_grouped, on='education', how='left')\n",
        "cs_grouped"
      ]
    },
    {
      "cell_type": "markdown",
      "metadata": {
        "id": "WTDA5ZPQLhlN"
      },
      "source": [
        "### Memperbaiki nilai yang hilang di `total_income`"
      ]
    },
    {
      "cell_type": "markdown",
      "metadata": {
        "id": "zPRfSCfcLhlN"
      },
      "source": [
        "[Jelaskan secara singkat kolom dengan nilai yang hilang manakah yang perlu Anda tangani. Jelaskan bagaimana Anda akan memperbaikinya.]\n",
        "\n",
        "\n",
        "[Mulailah dengan mengatasi total nilai pendapatan yang hilang. Buatlah kategori usia untuk nasabah. Buatlah kolom baru yang memuat kategori usia. Strategi ini dapat membantu untuk menghitung total nilai pendapatan.]\n"
      ]
    },
    {
      "cell_type": "code",
      "execution_count": null,
      "metadata": {
        "id": "KSRL2apqLhlN"
      },
      "outputs": [],
      "source": [
        "# Mari kita tulis sebuah fungsi untuk menghitung kategori usia\n",
        "def dob_years_category(dob_years):\n",
        "    if dob_years >=7 and dob_years <=12:\n",
        "        return 'Anak SD'\n",
        "    elif dob_years <=16:\n",
        "        return 'Anak SMP'\n",
        "    elif dob_years <=19:\n",
        "        return 'Anak SMA'\n",
        "    elif dob_years <=25:\n",
        "        return 'Masa Remaja'\n",
        "    elif dob_years <=45:\n",
        "        return 'Masa Dewasa'\n",
        "    else:\n",
        "        return 'Masa Lansia'"
      ]
    },
    {
      "cell_type": "code",
      "execution_count": null,
      "metadata": {
        "id": "ApLRcYDhLhlO",
        "outputId": "879cd9e5-7c4f-41bd-f49a-b3662905b699"
      },
      "outputs": [
        {
          "name": "stdout",
          "output_type": "stream",
          "text": [
            "Anak SMA\n",
            "Masa Remaja\n",
            "Masa Dewasa\n",
            "Masa Lansia\n"
          ]
        }
      ],
      "source": [
        "# Lakukan pengujian untuk melihat apakah fungsi Anda bekerja atau tidak\n",
        "print(dob_years_category(18))\n",
        "print(dob_years_category(20))\n",
        "print(dob_years_category(30))\n",
        "print(dob_years_category(50))"
      ]
    },
    {
      "cell_type": "code",
      "execution_count": null,
      "metadata": {
        "scrolled": false,
        "id": "4ndx43oDLhlO",
        "outputId": "82c0967f-f6ab-4015-c82e-7849ddc1759f"
      },
      "outputs": [
        {
          "data": {
            "text/html": [
              "<div>\n",
              "<style scoped>\n",
              "    .dataframe tbody tr th:only-of-type {\n",
              "        vertical-align: middle;\n",
              "    }\n",
              "\n",
              "    .dataframe tbody tr th {\n",
              "        vertical-align: top;\n",
              "    }\n",
              "\n",
              "    .dataframe thead th {\n",
              "        text-align: right;\n",
              "    }\n",
              "</style>\n",
              "<table border=\"1\" class=\"dataframe\">\n",
              "  <thead>\n",
              "    <tr style=\"text-align: right;\">\n",
              "      <th></th>\n",
              "      <th>children</th>\n",
              "      <th>days_employed</th>\n",
              "      <th>dob_years</th>\n",
              "      <th>education</th>\n",
              "      <th>education_id</th>\n",
              "      <th>family_status</th>\n",
              "      <th>family_status_id</th>\n",
              "      <th>gender</th>\n",
              "      <th>income_type</th>\n",
              "      <th>debt</th>\n",
              "      <th>total_income</th>\n",
              "      <th>purpose</th>\n",
              "      <th>dob_years_category</th>\n",
              "    </tr>\n",
              "  </thead>\n",
              "  <tbody>\n",
              "    <tr>\n",
              "      <th>0</th>\n",
              "      <td>1</td>\n",
              "      <td>8437.673028</td>\n",
              "      <td>42</td>\n",
              "      <td>bachelor's degree</td>\n",
              "      <td>0</td>\n",
              "      <td>married</td>\n",
              "      <td>0</td>\n",
              "      <td>F</td>\n",
              "      <td>employee</td>\n",
              "      <td>0</td>\n",
              "      <td>40620.102</td>\n",
              "      <td>property related</td>\n",
              "      <td>Masa Dewasa</td>\n",
              "    </tr>\n",
              "    <tr>\n",
              "      <th>1</th>\n",
              "      <td>1</td>\n",
              "      <td>4024.803754</td>\n",
              "      <td>36</td>\n",
              "      <td>secondary education</td>\n",
              "      <td>1</td>\n",
              "      <td>married</td>\n",
              "      <td>0</td>\n",
              "      <td>F</td>\n",
              "      <td>employee</td>\n",
              "      <td>0</td>\n",
              "      <td>17932.802</td>\n",
              "      <td>car related</td>\n",
              "      <td>Masa Dewasa</td>\n",
              "    </tr>\n",
              "    <tr>\n",
              "      <th>2</th>\n",
              "      <td>0</td>\n",
              "      <td>5623.422610</td>\n",
              "      <td>33</td>\n",
              "      <td>secondary education</td>\n",
              "      <td>1</td>\n",
              "      <td>married</td>\n",
              "      <td>0</td>\n",
              "      <td>M</td>\n",
              "      <td>employee</td>\n",
              "      <td>0</td>\n",
              "      <td>23341.752</td>\n",
              "      <td>property related</td>\n",
              "      <td>Masa Dewasa</td>\n",
              "    </tr>\n",
              "    <tr>\n",
              "      <th>3</th>\n",
              "      <td>3</td>\n",
              "      <td>4124.747207</td>\n",
              "      <td>32</td>\n",
              "      <td>secondary education</td>\n",
              "      <td>1</td>\n",
              "      <td>married</td>\n",
              "      <td>0</td>\n",
              "      <td>M</td>\n",
              "      <td>employee</td>\n",
              "      <td>0</td>\n",
              "      <td>42820.568</td>\n",
              "      <td>education related</td>\n",
              "      <td>Masa Dewasa</td>\n",
              "    </tr>\n",
              "    <tr>\n",
              "      <th>4</th>\n",
              "      <td>0</td>\n",
              "      <td>340266.072047</td>\n",
              "      <td>53</td>\n",
              "      <td>secondary education</td>\n",
              "      <td>1</td>\n",
              "      <td>civil partnership</td>\n",
              "      <td>1</td>\n",
              "      <td>F</td>\n",
              "      <td>retiree</td>\n",
              "      <td>0</td>\n",
              "      <td>25378.572</td>\n",
              "      <td>wedding</td>\n",
              "      <td>Masa Lansia</td>\n",
              "    </tr>\n",
              "  </tbody>\n",
              "</table>\n",
              "</div>"
            ],
            "text/plain": [
              "   children  days_employed  dob_years            education  education_id  \\\n",
              "0         1    8437.673028         42    bachelor's degree             0   \n",
              "1         1    4024.803754         36  secondary education             1   \n",
              "2         0    5623.422610         33  secondary education             1   \n",
              "3         3    4124.747207         32  secondary education             1   \n",
              "4         0  340266.072047         53  secondary education             1   \n",
              "\n",
              "       family_status  family_status_id gender income_type  debt  total_income  \\\n",
              "0            married                 0      F    employee     0     40620.102   \n",
              "1            married                 0      F    employee     0     17932.802   \n",
              "2            married                 0      M    employee     0     23341.752   \n",
              "3            married                 0      M    employee     0     42820.568   \n",
              "4  civil partnership                 1      F     retiree     0     25378.572   \n",
              "\n",
              "             purpose dob_years_category  \n",
              "0   property related        Masa Dewasa  \n",
              "1        car related        Masa Dewasa  \n",
              "2   property related        Masa Dewasa  \n",
              "3  education related        Masa Dewasa  \n",
              "4            wedding        Masa Lansia  "
            ]
          },
          "execution_count": 161,
          "metadata": {},
          "output_type": "execute_result"
        }
      ],
      "source": [
        "# Buatlah kolom baru berdasarkan fungsi\n",
        "credit_scoring['dob_years_category']=credit_scoring['dob_years'].apply(dob_years_category)\n",
        "credit_scoring.head()"
      ]
    },
    {
      "cell_type": "code",
      "execution_count": null,
      "metadata": {
        "scrolled": true,
        "id": "WYeEJ5g0LhlO",
        "outputId": "28e7369c-662d-4268-8c3c-2de3e12b0919"
      },
      "outputs": [
        {
          "data": {
            "text/plain": [
              "Masa Dewasa    10812\n",
              "Masa Lansia     8936\n",
              "Masa Remaja     1206\n",
              "Anak SMA          14\n",
              "Name: dob_years_category, dtype: int64"
            ]
          },
          "execution_count": 162,
          "metadata": {},
          "output_type": "execute_result"
        }
      ],
      "source": [
        "# Periksa bagaimana nilai di dalam kolom baru\n",
        "credit_scoring['dob_years_category'].value_counts()\n"
      ]
    },
    {
      "cell_type": "markdown",
      "metadata": {
        "id": "0PbWUEljLhlP"
      },
      "source": [
        "[Pikirkan tentang faktor-faktor yang biasanya bergantung pada pendapatan. Pada akhirnya, Anda akan mengetahui apakah Anda harus menggunakan nilai rata-rata atau median untuk mengganti nilai yang hilang. Untuk membuat keputusan ini, Anda mungkin ingin melihat distribusi faktor-faktor yang Anda identifikasi sebagai dampak dari pendapatan seseorang.]"
      ]
    },
    {
      "cell_type": "markdown",
      "metadata": {
        "id": "UMtNBq0bLhlP"
      },
      "source": [
        "[Buatlah tabel yang hanya memuat data tanpa nilai yang hilang. Data ini akan digunakan untuk memperbaiki nilai yang hilang.]"
      ]
    },
    {
      "cell_type": "code",
      "execution_count": null,
      "metadata": {
        "id": "AE8U3pvhLhlP",
        "outputId": "db31788f-cb68-4f54-92d5-5661b1e4bfdc"
      },
      "outputs": [
        {
          "data": {
            "text/html": [
              "<div>\n",
              "<style scoped>\n",
              "    .dataframe tbody tr th:only-of-type {\n",
              "        vertical-align: middle;\n",
              "    }\n",
              "\n",
              "    .dataframe tbody tr th {\n",
              "        vertical-align: top;\n",
              "    }\n",
              "\n",
              "    .dataframe thead th {\n",
              "        text-align: right;\n",
              "    }\n",
              "</style>\n",
              "<table border=\"1\" class=\"dataframe\">\n",
              "  <thead>\n",
              "    <tr style=\"text-align: right;\">\n",
              "      <th></th>\n",
              "      <th>children</th>\n",
              "      <th>days_employed</th>\n",
              "      <th>dob_years</th>\n",
              "      <th>education</th>\n",
              "      <th>education_id</th>\n",
              "      <th>family_status</th>\n",
              "      <th>family_status_id</th>\n",
              "      <th>gender</th>\n",
              "      <th>income_type</th>\n",
              "      <th>debt</th>\n",
              "      <th>total_income</th>\n",
              "      <th>purpose</th>\n",
              "      <th>dob_years_category</th>\n",
              "    </tr>\n",
              "  </thead>\n",
              "  <tbody>\n",
              "    <tr>\n",
              "      <th>0</th>\n",
              "      <td>1</td>\n",
              "      <td>8437.673028</td>\n",
              "      <td>42</td>\n",
              "      <td>bachelor's degree</td>\n",
              "      <td>0</td>\n",
              "      <td>married</td>\n",
              "      <td>0</td>\n",
              "      <td>F</td>\n",
              "      <td>employee</td>\n",
              "      <td>0</td>\n",
              "      <td>40620.102</td>\n",
              "      <td>property related</td>\n",
              "      <td>Masa Dewasa</td>\n",
              "    </tr>\n",
              "    <tr>\n",
              "      <th>1</th>\n",
              "      <td>1</td>\n",
              "      <td>4024.803754</td>\n",
              "      <td>36</td>\n",
              "      <td>secondary education</td>\n",
              "      <td>1</td>\n",
              "      <td>married</td>\n",
              "      <td>0</td>\n",
              "      <td>F</td>\n",
              "      <td>employee</td>\n",
              "      <td>0</td>\n",
              "      <td>17932.802</td>\n",
              "      <td>car related</td>\n",
              "      <td>Masa Dewasa</td>\n",
              "    </tr>\n",
              "    <tr>\n",
              "      <th>2</th>\n",
              "      <td>0</td>\n",
              "      <td>5623.422610</td>\n",
              "      <td>33</td>\n",
              "      <td>secondary education</td>\n",
              "      <td>1</td>\n",
              "      <td>married</td>\n",
              "      <td>0</td>\n",
              "      <td>M</td>\n",
              "      <td>employee</td>\n",
              "      <td>0</td>\n",
              "      <td>23341.752</td>\n",
              "      <td>property related</td>\n",
              "      <td>Masa Dewasa</td>\n",
              "    </tr>\n",
              "    <tr>\n",
              "      <th>3</th>\n",
              "      <td>3</td>\n",
              "      <td>4124.747207</td>\n",
              "      <td>32</td>\n",
              "      <td>secondary education</td>\n",
              "      <td>1</td>\n",
              "      <td>married</td>\n",
              "      <td>0</td>\n",
              "      <td>M</td>\n",
              "      <td>employee</td>\n",
              "      <td>0</td>\n",
              "      <td>42820.568</td>\n",
              "      <td>education related</td>\n",
              "      <td>Masa Dewasa</td>\n",
              "    </tr>\n",
              "    <tr>\n",
              "      <th>4</th>\n",
              "      <td>0</td>\n",
              "      <td>340266.072047</td>\n",
              "      <td>53</td>\n",
              "      <td>secondary education</td>\n",
              "      <td>1</td>\n",
              "      <td>civil partnership</td>\n",
              "      <td>1</td>\n",
              "      <td>F</td>\n",
              "      <td>retiree</td>\n",
              "      <td>0</td>\n",
              "      <td>25378.572</td>\n",
              "      <td>wedding</td>\n",
              "      <td>Masa Lansia</td>\n",
              "    </tr>\n",
              "    <tr>\n",
              "      <th>...</th>\n",
              "      <td>...</td>\n",
              "      <td>...</td>\n",
              "      <td>...</td>\n",
              "      <td>...</td>\n",
              "      <td>...</td>\n",
              "      <td>...</td>\n",
              "      <td>...</td>\n",
              "      <td>...</td>\n",
              "      <td>...</td>\n",
              "      <td>...</td>\n",
              "      <td>...</td>\n",
              "      <td>...</td>\n",
              "      <td>...</td>\n",
              "    </tr>\n",
              "    <tr>\n",
              "      <th>20963</th>\n",
              "      <td>1</td>\n",
              "      <td>4529.316663</td>\n",
              "      <td>43</td>\n",
              "      <td>secondary education</td>\n",
              "      <td>1</td>\n",
              "      <td>civil partnership</td>\n",
              "      <td>1</td>\n",
              "      <td>F</td>\n",
              "      <td>business</td>\n",
              "      <td>0</td>\n",
              "      <td>35966.698</td>\n",
              "      <td>property related</td>\n",
              "      <td>Masa Dewasa</td>\n",
              "    </tr>\n",
              "    <tr>\n",
              "      <th>20964</th>\n",
              "      <td>0</td>\n",
              "      <td>343937.404131</td>\n",
              "      <td>67</td>\n",
              "      <td>secondary education</td>\n",
              "      <td>1</td>\n",
              "      <td>married</td>\n",
              "      <td>0</td>\n",
              "      <td>F</td>\n",
              "      <td>retiree</td>\n",
              "      <td>0</td>\n",
              "      <td>24959.969</td>\n",
              "      <td>car related</td>\n",
              "      <td>Masa Lansia</td>\n",
              "    </tr>\n",
              "    <tr>\n",
              "      <th>20965</th>\n",
              "      <td>1</td>\n",
              "      <td>2113.346888</td>\n",
              "      <td>38</td>\n",
              "      <td>secondary education</td>\n",
              "      <td>1</td>\n",
              "      <td>civil partnership</td>\n",
              "      <td>1</td>\n",
              "      <td>M</td>\n",
              "      <td>employee</td>\n",
              "      <td>1</td>\n",
              "      <td>14347.610</td>\n",
              "      <td>property related</td>\n",
              "      <td>Masa Dewasa</td>\n",
              "    </tr>\n",
              "    <tr>\n",
              "      <th>20966</th>\n",
              "      <td>3</td>\n",
              "      <td>3112.481705</td>\n",
              "      <td>38</td>\n",
              "      <td>secondary education</td>\n",
              "      <td>1</td>\n",
              "      <td>married</td>\n",
              "      <td>0</td>\n",
              "      <td>M</td>\n",
              "      <td>employee</td>\n",
              "      <td>1</td>\n",
              "      <td>39054.888</td>\n",
              "      <td>car related</td>\n",
              "      <td>Masa Dewasa</td>\n",
              "    </tr>\n",
              "    <tr>\n",
              "      <th>20967</th>\n",
              "      <td>2</td>\n",
              "      <td>1984.507589</td>\n",
              "      <td>40</td>\n",
              "      <td>secondary education</td>\n",
              "      <td>1</td>\n",
              "      <td>married</td>\n",
              "      <td>0</td>\n",
              "      <td>F</td>\n",
              "      <td>employee</td>\n",
              "      <td>0</td>\n",
              "      <td>13127.587</td>\n",
              "      <td>car related</td>\n",
              "      <td>Masa Dewasa</td>\n",
              "    </tr>\n",
              "  </tbody>\n",
              "</table>\n",
              "<p>19211 rows × 13 columns</p>\n",
              "</div>"
            ],
            "text/plain": [
              "       children  days_employed  dob_years            education  education_id  \\\n",
              "0             1    8437.673028         42    bachelor's degree             0   \n",
              "1             1    4024.803754         36  secondary education             1   \n",
              "2             0    5623.422610         33  secondary education             1   \n",
              "3             3    4124.747207         32  secondary education             1   \n",
              "4             0  340266.072047         53  secondary education             1   \n",
              "...         ...            ...        ...                  ...           ...   \n",
              "20963         1    4529.316663         43  secondary education             1   \n",
              "20964         0  343937.404131         67  secondary education             1   \n",
              "20965         1    2113.346888         38  secondary education             1   \n",
              "20966         3    3112.481705         38  secondary education             1   \n",
              "20967         2    1984.507589         40  secondary education             1   \n",
              "\n",
              "           family_status  family_status_id gender income_type  debt  \\\n",
              "0                married                 0      F    employee     0   \n",
              "1                married                 0      F    employee     0   \n",
              "2                married                 0      M    employee     0   \n",
              "3                married                 0      M    employee     0   \n",
              "4      civil partnership                 1      F     retiree     0   \n",
              "...                  ...               ...    ...         ...   ...   \n",
              "20963  civil partnership                 1      F    business     0   \n",
              "20964            married                 0      F     retiree     0   \n",
              "20965  civil partnership                 1      M    employee     1   \n",
              "20966            married                 0      M    employee     1   \n",
              "20967            married                 0      F    employee     0   \n",
              "\n",
              "       total_income            purpose dob_years_category  \n",
              "0         40620.102   property related        Masa Dewasa  \n",
              "1         17932.802        car related        Masa Dewasa  \n",
              "2         23341.752   property related        Masa Dewasa  \n",
              "3         42820.568  education related        Masa Dewasa  \n",
              "4         25378.572            wedding        Masa Lansia  \n",
              "...             ...                ...                ...  \n",
              "20963     35966.698   property related        Masa Dewasa  \n",
              "20964     24959.969        car related        Masa Lansia  \n",
              "20965     14347.610   property related        Masa Dewasa  \n",
              "20966     39054.888        car related        Masa Dewasa  \n",
              "20967     13127.587        car related        Masa Dewasa  \n",
              "\n",
              "[19211 rows x 13 columns]"
            ]
          },
          "execution_count": 163,
          "metadata": {},
          "output_type": "execute_result"
        }
      ],
      "source": [
        "# Buat tabel tanpa nilai yang hilang dan tampilkan beberapa barisnya untuk memastikan semuanya berjalan dengan baik\n",
        "# credit_scoring.loc[(credit_scoring['days_employed'].isna() == False) & (credit_scoring['total_income'].isna() == False)]\n",
        "credit_scoring_notnull = credit_scoring.loc[(credit_scoring['days_employed'].notnull()) \n",
        "                                            & (credit_scoring['total_income'].notnull())]\n",
        "credit_scoring_notnull"
      ]
    },
    {
      "cell_type": "code",
      "execution_count": null,
      "metadata": {
        "scrolled": false,
        "id": "WtMaMkyzLhlP",
        "outputId": "c63e252c-0381-492e-bc84-2a4034be1a62"
      },
      "outputs": [
        {
          "data": {
            "text/html": [
              "<div>\n",
              "<style scoped>\n",
              "    .dataframe tbody tr th:only-of-type {\n",
              "        vertical-align: middle;\n",
              "    }\n",
              "\n",
              "    .dataframe tbody tr th {\n",
              "        vertical-align: top;\n",
              "    }\n",
              "\n",
              "    .dataframe thead th {\n",
              "        text-align: right;\n",
              "    }\n",
              "</style>\n",
              "<table border=\"1\" class=\"dataframe\">\n",
              "  <thead>\n",
              "    <tr style=\"text-align: right;\">\n",
              "      <th>income_type</th>\n",
              "      <th>business</th>\n",
              "      <th>civil servant</th>\n",
              "      <th>employee</th>\n",
              "      <th>retiree</th>\n",
              "    </tr>\n",
              "    <tr>\n",
              "      <th>education</th>\n",
              "      <th></th>\n",
              "      <th></th>\n",
              "      <th></th>\n",
              "      <th></th>\n",
              "    </tr>\n",
              "  </thead>\n",
              "  <tbody>\n",
              "    <tr>\n",
              "      <th>bachelor's degree</th>\n",
              "      <td>38843.953560</td>\n",
              "      <td>31582.992077</td>\n",
              "      <td>30698.733872</td>\n",
              "      <td>27332.448107</td>\n",
              "    </tr>\n",
              "    <tr>\n",
              "      <th>graduate degree</th>\n",
              "      <td>NaN</td>\n",
              "      <td>17822.757000</td>\n",
              "      <td>31089.653667</td>\n",
              "      <td>28334.215000</td>\n",
              "    </tr>\n",
              "    <tr>\n",
              "      <th>primary education</th>\n",
              "      <td>26409.124931</td>\n",
              "      <td>29449.016667</td>\n",
              "      <td>21954.056075</td>\n",
              "      <td>17810.387914</td>\n",
              "    </tr>\n",
              "    <tr>\n",
              "      <th>secondary education</th>\n",
              "      <td>28744.242997</td>\n",
              "      <td>24657.258841</td>\n",
              "      <td>24428.008349</td>\n",
              "      <td>21078.889528</td>\n",
              "    </tr>\n",
              "    <tr>\n",
              "      <th>some college</th>\n",
              "      <td>31620.043969</td>\n",
              "      <td>27596.312587</td>\n",
              "      <td>27866.570542</td>\n",
              "      <td>22129.937314</td>\n",
              "    </tr>\n",
              "  </tbody>\n",
              "</table>\n",
              "</div>"
            ],
            "text/plain": [
              "income_type              business  civil servant      employee       retiree\n",
              "education                                                                   \n",
              "bachelor's degree    38843.953560   31582.992077  30698.733872  27332.448107\n",
              "graduate degree               NaN   17822.757000  31089.653667  28334.215000\n",
              "primary education    26409.124931   29449.016667  21954.056075  17810.387914\n",
              "secondary education  28744.242997   24657.258841  24428.008349  21078.889528\n",
              "some college         31620.043969   27596.312587  27866.570542  22129.937314"
            ]
          },
          "execution_count": 164,
          "metadata": {},
          "output_type": "execute_result"
        }
      ],
      "source": [
        "# Perhatikan nilai rata-rata untuk pendapatan berdasarkan faktor yang telah Anda identifikasi\n",
        "total_income_median_pivot = credit_scoring_notnull.pivot_table(\n",
        "    index='education',\n",
        "    columns='income_type',\n",
        "    values='total_income',\n",
        "    aggfunc='mean',\n",
        ")\n",
        "total_income_median_pivot"
      ]
    },
    {
      "cell_type": "code",
      "execution_count": null,
      "metadata": {
        "id": "tTBpn9h6LhlQ",
        "outputId": "d0042839-a99c-4394-8588-b1ef66e33e33"
      },
      "outputs": [
        {
          "data": {
            "text/html": [
              "<div>\n",
              "<style scoped>\n",
              "    .dataframe tbody tr th:only-of-type {\n",
              "        vertical-align: middle;\n",
              "    }\n",
              "\n",
              "    .dataframe tbody tr th {\n",
              "        vertical-align: top;\n",
              "    }\n",
              "\n",
              "    .dataframe thead th {\n",
              "        text-align: right;\n",
              "    }\n",
              "</style>\n",
              "<table border=\"1\" class=\"dataframe\">\n",
              "  <thead>\n",
              "    <tr style=\"text-align: right;\">\n",
              "      <th>income_type</th>\n",
              "      <th>business</th>\n",
              "      <th>civil servant</th>\n",
              "      <th>employee</th>\n",
              "      <th>retiree</th>\n",
              "    </tr>\n",
              "    <tr>\n",
              "      <th>education</th>\n",
              "      <th></th>\n",
              "      <th></th>\n",
              "      <th></th>\n",
              "      <th></th>\n",
              "    </tr>\n",
              "  </thead>\n",
              "  <tbody>\n",
              "    <tr>\n",
              "      <th>bachelor's degree</th>\n",
              "      <td>32268.158</td>\n",
              "      <td>27564.459</td>\n",
              "      <td>26585.082</td>\n",
              "      <td>23030.2470</td>\n",
              "    </tr>\n",
              "    <tr>\n",
              "      <th>graduate degree</th>\n",
              "      <td>NaN</td>\n",
              "      <td>17822.757</td>\n",
              "      <td>31771.321</td>\n",
              "      <td>28334.2150</td>\n",
              "    </tr>\n",
              "    <tr>\n",
              "      <th>primary education</th>\n",
              "      <td>21887.825</td>\n",
              "      <td>23734.287</td>\n",
              "      <td>20159.186</td>\n",
              "      <td>16415.7850</td>\n",
              "    </tr>\n",
              "    <tr>\n",
              "      <th>secondary education</th>\n",
              "      <td>25439.977</td>\n",
              "      <td>21888.560</td>\n",
              "      <td>21843.582</td>\n",
              "      <td>18382.4045</td>\n",
              "    </tr>\n",
              "    <tr>\n",
              "      <th>some college</th>\n",
              "      <td>28688.018</td>\n",
              "      <td>25694.775</td>\n",
              "      <td>24208.781</td>\n",
              "      <td>19221.9030</td>\n",
              "    </tr>\n",
              "  </tbody>\n",
              "</table>\n",
              "</div>"
            ],
            "text/plain": [
              "income_type           business  civil servant   employee     retiree\n",
              "education                                                           \n",
              "bachelor's degree    32268.158      27564.459  26585.082  23030.2470\n",
              "graduate degree            NaN      17822.757  31771.321  28334.2150\n",
              "primary education    21887.825      23734.287  20159.186  16415.7850\n",
              "secondary education  25439.977      21888.560  21843.582  18382.4045\n",
              "some college         28688.018      25694.775  24208.781  19221.9030"
            ]
          },
          "execution_count": 165,
          "metadata": {},
          "output_type": "execute_result"
        }
      ],
      "source": [
        "total_income_median_pivot = credit_scoring_notnull.pivot_table(\n",
        "    index='education',\n",
        "    columns='income_type',\n",
        "    values='total_income',\n",
        "    aggfunc='median',\n",
        ")\n",
        "total_income_median_pivot"
      ]
    },
    {
      "cell_type": "markdown",
      "metadata": {
        "id": "bDL-y6k_LhlQ"
      },
      "source": [
        "[Ulangi perbandingan tersebut untuk beberapa faktor. Pastikan Anda mempertimbangkan berbagai aspek dan menjelaskan proses berpikir Anda.]\n",
        "\n"
      ]
    },
    {
      "cell_type": "markdown",
      "metadata": {
        "id": "sTC_Zx0fLhlR"
      },
      "source": [
        "[Buatlah keputusan tentang karakteristik yang paling menentukan pendapatan dan apakah Anda akan menggunakan median atau rata-rata. Jelaskan mengapa Anda membuat keputusan ini]\n",
        "\n",
        "**Berdasarkan visualisasi boxplot terdapat outlier pada kolom total_income, sehingga saya akan menggunakan median untuk mengganti nilai yang hilang pada kolom total_income berdasarkan education nasabah**\n"
      ]
    },
    {
      "cell_type": "code",
      "execution_count": null,
      "metadata": {
        "id": "SGby5cX5LhlR",
        "outputId": "c208ee72-d022-4fac-fa42-0fddc8342e05"
      },
      "outputs": [
        {
          "data": {
            "text/plain": [
              "<AxesSubplot:>"
            ]
          },
          "execution_count": 166,
          "metadata": {},
          "output_type": "execute_result"
        },
        {
          "data": {
            "image/png": "[encoded data removed]",
            "text/plain": [
              "<Figure size 432x288 with 1 Axes>"
            ]
          },
          "metadata": {
            "needs_background": "light"
          },
          "output_type": "display_data"
        }
      ],
      "source": [
        "sns.boxplot(data = credit_scoring_notnull['total_income'], orient=\"h\")"
      ]
    },
    {
      "cell_type": "code",
      "execution_count": null,
      "metadata": {
        "id": "6T0GlNrqLhlS",
        "outputId": "5437a810-c8f9-44c8-bda6-04af5091b13e"
      },
      "outputs": [
        {
          "data": {
            "text/plain": [
              "array([\"bachelor's degree\", 'secondary education', 'some college',\n",
              "       'primary education', 'graduate degree'], dtype=object)"
            ]
          },
          "execution_count": 167,
          "metadata": {},
          "output_type": "execute_result"
        }
      ],
      "source": [
        "credit_scoring['education'].unique()"
      ]
    },
    {
      "cell_type": "code",
      "execution_count": null,
      "metadata": {
        "id": "mr0ssRN-LhlS"
      },
      "outputs": [],
      "source": [
        "#  Tulis fungsi yang akan kita gunakan untuk mengisi nilai yang hilang\n",
        "#def fill_null_total_income (data, agg_column, value_column):\n",
        "    #grouped_values = credit_scoring.groupby(agg_column)[value_column].median().reset_index()\n",
        "    #size = len(grouped_values)\n",
        "    #for i in range(size):\n",
        "        #group = grouped_values[agg_column][i]\n",
        "        #value = grouped_values[value_column][i]\n",
        "        #data.loc[(data[agg_column]==group) & (data[agg_column].isna()), value_column] = value\n",
        "    #return data\n",
        "    \n",
        "def fill_null_total_income(data):\n",
        "    for i in range(len(data)):\n",
        "        if ((data['education'][i] == \"primary education\") & (str(data['total_income'][i]) == 'nan')):\n",
        "            data['total_income'][i] = 18741\n",
        "        elif ((data['education'][i] == \"secondary education\") & (str(data['total_income'][i]) == 'nan')):\n",
        "            data['total_income'][i] = 21837\n",
        "        elif ((data['education'][i] == \"some college\") & (str(data['total_income'][i]) == 'nan')):\n",
        "            data['total_income'][i] = 25599\n",
        "        elif ((data['education'][i] == \"bachelor's degree\") & (str(data['total_income'][i]) == 'nan')):\n",
        "            data['total_income'][i] = 28086\n",
        "        elif ((data['education'][i] == \"graduate degree\") & (str(data['total_income'][i]) == 'nan')):\n",
        "            data['total_income'][i] = 25161\n",
        "    return data"
      ]
    },
    {
      "cell_type": "code",
      "execution_count": null,
      "metadata": {
        "scrolled": true,
        "id": "IV6Lo-EKLhlS",
        "outputId": "899c19ab-d2f1-410a-99c1-d66a3c41227f"
      },
      "outputs": [
        {
          "data": {
            "text/html": [
              "<div>\n",
              "<style scoped>\n",
              "    .dataframe tbody tr th:only-of-type {\n",
              "        vertical-align: middle;\n",
              "    }\n",
              "\n",
              "    .dataframe tbody tr th {\n",
              "        vertical-align: top;\n",
              "    }\n",
              "\n",
              "    .dataframe thead th {\n",
              "        text-align: right;\n",
              "    }\n",
              "</style>\n",
              "<table border=\"1\" class=\"dataframe\">\n",
              "  <thead>\n",
              "    <tr style=\"text-align: right;\">\n",
              "      <th></th>\n",
              "      <th>children</th>\n",
              "      <th>days_employed</th>\n",
              "      <th>dob_years</th>\n",
              "      <th>education</th>\n",
              "      <th>education_id</th>\n",
              "      <th>family_status</th>\n",
              "      <th>family_status_id</th>\n",
              "      <th>gender</th>\n",
              "      <th>income_type</th>\n",
              "      <th>debt</th>\n",
              "      <th>total_income</th>\n",
              "      <th>purpose</th>\n",
              "      <th>dob_years_category</th>\n",
              "    </tr>\n",
              "  </thead>\n",
              "  <tbody>\n",
              "    <tr>\n",
              "      <th>0</th>\n",
              "      <td>1</td>\n",
              "      <td>8437.673028</td>\n",
              "      <td>42</td>\n",
              "      <td>bachelor's degree</td>\n",
              "      <td>0</td>\n",
              "      <td>married</td>\n",
              "      <td>0</td>\n",
              "      <td>F</td>\n",
              "      <td>employee</td>\n",
              "      <td>0</td>\n",
              "      <td>40620.102</td>\n",
              "      <td>property related</td>\n",
              "      <td>Masa Dewasa</td>\n",
              "    </tr>\n",
              "    <tr>\n",
              "      <th>1</th>\n",
              "      <td>1</td>\n",
              "      <td>4024.803754</td>\n",
              "      <td>36</td>\n",
              "      <td>secondary education</td>\n",
              "      <td>1</td>\n",
              "      <td>married</td>\n",
              "      <td>0</td>\n",
              "      <td>F</td>\n",
              "      <td>employee</td>\n",
              "      <td>0</td>\n",
              "      <td>17932.802</td>\n",
              "      <td>car related</td>\n",
              "      <td>Masa Dewasa</td>\n",
              "    </tr>\n",
              "    <tr>\n",
              "      <th>2</th>\n",
              "      <td>0</td>\n",
              "      <td>5623.422610</td>\n",
              "      <td>33</td>\n",
              "      <td>secondary education</td>\n",
              "      <td>1</td>\n",
              "      <td>married</td>\n",
              "      <td>0</td>\n",
              "      <td>M</td>\n",
              "      <td>employee</td>\n",
              "      <td>0</td>\n",
              "      <td>23341.752</td>\n",
              "      <td>property related</td>\n",
              "      <td>Masa Dewasa</td>\n",
              "    </tr>\n",
              "    <tr>\n",
              "      <th>3</th>\n",
              "      <td>3</td>\n",
              "      <td>4124.747207</td>\n",
              "      <td>32</td>\n",
              "      <td>secondary education</td>\n",
              "      <td>1</td>\n",
              "      <td>married</td>\n",
              "      <td>0</td>\n",
              "      <td>M</td>\n",
              "      <td>employee</td>\n",
              "      <td>0</td>\n",
              "      <td>42820.568</td>\n",
              "      <td>education related</td>\n",
              "      <td>Masa Dewasa</td>\n",
              "    </tr>\n",
              "    <tr>\n",
              "      <th>4</th>\n",
              "      <td>0</td>\n",
              "      <td>340266.072047</td>\n",
              "      <td>53</td>\n",
              "      <td>secondary education</td>\n",
              "      <td>1</td>\n",
              "      <td>civil partnership</td>\n",
              "      <td>1</td>\n",
              "      <td>F</td>\n",
              "      <td>retiree</td>\n",
              "      <td>0</td>\n",
              "      <td>25378.572</td>\n",
              "      <td>wedding</td>\n",
              "      <td>Masa Lansia</td>\n",
              "    </tr>\n",
              "    <tr>\n",
              "      <th>5</th>\n",
              "      <td>0</td>\n",
              "      <td>926.185831</td>\n",
              "      <td>27</td>\n",
              "      <td>bachelor's degree</td>\n",
              "      <td>0</td>\n",
              "      <td>civil partnership</td>\n",
              "      <td>1</td>\n",
              "      <td>M</td>\n",
              "      <td>business</td>\n",
              "      <td>0</td>\n",
              "      <td>40922.170</td>\n",
              "      <td>property related</td>\n",
              "      <td>Masa Dewasa</td>\n",
              "    </tr>\n",
              "    <tr>\n",
              "      <th>6</th>\n",
              "      <td>0</td>\n",
              "      <td>2879.202052</td>\n",
              "      <td>43</td>\n",
              "      <td>bachelor's degree</td>\n",
              "      <td>0</td>\n",
              "      <td>married</td>\n",
              "      <td>0</td>\n",
              "      <td>F</td>\n",
              "      <td>business</td>\n",
              "      <td>0</td>\n",
              "      <td>38484.156</td>\n",
              "      <td>property related</td>\n",
              "      <td>Masa Dewasa</td>\n",
              "    </tr>\n",
              "    <tr>\n",
              "      <th>7</th>\n",
              "      <td>0</td>\n",
              "      <td>152.779569</td>\n",
              "      <td>50</td>\n",
              "      <td>secondary education</td>\n",
              "      <td>1</td>\n",
              "      <td>married</td>\n",
              "      <td>0</td>\n",
              "      <td>M</td>\n",
              "      <td>employee</td>\n",
              "      <td>0</td>\n",
              "      <td>21731.829</td>\n",
              "      <td>education related</td>\n",
              "      <td>Masa Lansia</td>\n",
              "    </tr>\n",
              "    <tr>\n",
              "      <th>8</th>\n",
              "      <td>2</td>\n",
              "      <td>6929.865299</td>\n",
              "      <td>35</td>\n",
              "      <td>bachelor's degree</td>\n",
              "      <td>0</td>\n",
              "      <td>civil partnership</td>\n",
              "      <td>1</td>\n",
              "      <td>F</td>\n",
              "      <td>employee</td>\n",
              "      <td>0</td>\n",
              "      <td>15337.093</td>\n",
              "      <td>wedding</td>\n",
              "      <td>Masa Dewasa</td>\n",
              "    </tr>\n",
              "    <tr>\n",
              "      <th>9</th>\n",
              "      <td>0</td>\n",
              "      <td>2188.756445</td>\n",
              "      <td>41</td>\n",
              "      <td>secondary education</td>\n",
              "      <td>1</td>\n",
              "      <td>married</td>\n",
              "      <td>0</td>\n",
              "      <td>M</td>\n",
              "      <td>employee</td>\n",
              "      <td>0</td>\n",
              "      <td>23108.150</td>\n",
              "      <td>property related</td>\n",
              "      <td>Masa Dewasa</td>\n",
              "    </tr>\n",
              "    <tr>\n",
              "      <th>10</th>\n",
              "      <td>2</td>\n",
              "      <td>4171.483647</td>\n",
              "      <td>36</td>\n",
              "      <td>bachelor's degree</td>\n",
              "      <td>0</td>\n",
              "      <td>married</td>\n",
              "      <td>0</td>\n",
              "      <td>M</td>\n",
              "      <td>business</td>\n",
              "      <td>0</td>\n",
              "      <td>18230.959</td>\n",
              "      <td>property related</td>\n",
              "      <td>Masa Dewasa</td>\n",
              "    </tr>\n",
              "    <tr>\n",
              "      <th>11</th>\n",
              "      <td>0</td>\n",
              "      <td>792.701887</td>\n",
              "      <td>40</td>\n",
              "      <td>secondary education</td>\n",
              "      <td>1</td>\n",
              "      <td>married</td>\n",
              "      <td>0</td>\n",
              "      <td>F</td>\n",
              "      <td>employee</td>\n",
              "      <td>0</td>\n",
              "      <td>12331.077</td>\n",
              "      <td>property related</td>\n",
              "      <td>Masa Dewasa</td>\n",
              "    </tr>\n",
              "    <tr>\n",
              "      <th>12</th>\n",
              "      <td>0</td>\n",
              "      <td>NaN</td>\n",
              "      <td>65</td>\n",
              "      <td>secondary education</td>\n",
              "      <td>1</td>\n",
              "      <td>civil partnership</td>\n",
              "      <td>1</td>\n",
              "      <td>M</td>\n",
              "      <td>retiree</td>\n",
              "      <td>0</td>\n",
              "      <td>NaN</td>\n",
              "      <td>wedding</td>\n",
              "      <td>Masa Lansia</td>\n",
              "    </tr>\n",
              "    <tr>\n",
              "      <th>13</th>\n",
              "      <td>0</td>\n",
              "      <td>1846.641941</td>\n",
              "      <td>54</td>\n",
              "      <td>some college</td>\n",
              "      <td>2</td>\n",
              "      <td>married</td>\n",
              "      <td>0</td>\n",
              "      <td>F</td>\n",
              "      <td>employee</td>\n",
              "      <td>0</td>\n",
              "      <td>20873.317</td>\n",
              "      <td>car related</td>\n",
              "      <td>Masa Lansia</td>\n",
              "    </tr>\n",
              "    <tr>\n",
              "      <th>14</th>\n",
              "      <td>0</td>\n",
              "      <td>1844.956182</td>\n",
              "      <td>56</td>\n",
              "      <td>bachelor's degree</td>\n",
              "      <td>0</td>\n",
              "      <td>civil partnership</td>\n",
              "      <td>1</td>\n",
              "      <td>F</td>\n",
              "      <td>business</td>\n",
              "      <td>1</td>\n",
              "      <td>26420.466</td>\n",
              "      <td>property related</td>\n",
              "      <td>Masa Lansia</td>\n",
              "    </tr>\n",
              "  </tbody>\n",
              "</table>\n",
              "</div>"
            ],
            "text/plain": [
              "    children  days_employed  dob_years            education  education_id  \\\n",
              "0          1    8437.673028         42    bachelor's degree             0   \n",
              "1          1    4024.803754         36  secondary education             1   \n",
              "2          0    5623.422610         33  secondary education             1   \n",
              "3          3    4124.747207         32  secondary education             1   \n",
              "4          0  340266.072047         53  secondary education             1   \n",
              "5          0     926.185831         27    bachelor's degree             0   \n",
              "6          0    2879.202052         43    bachelor's degree             0   \n",
              "7          0     152.779569         50  secondary education             1   \n",
              "8          2    6929.865299         35    bachelor's degree             0   \n",
              "9          0    2188.756445         41  secondary education             1   \n",
              "10         2    4171.483647         36    bachelor's degree             0   \n",
              "11         0     792.701887         40  secondary education             1   \n",
              "12         0            NaN         65  secondary education             1   \n",
              "13         0    1846.641941         54         some college             2   \n",
              "14         0    1844.956182         56    bachelor's degree             0   \n",
              "\n",
              "        family_status  family_status_id gender income_type  debt  \\\n",
              "0             married                 0      F    employee     0   \n",
              "1             married                 0      F    employee     0   \n",
              "2             married                 0      M    employee     0   \n",
              "3             married                 0      M    employee     0   \n",
              "4   civil partnership                 1      F     retiree     0   \n",
              "5   civil partnership                 1      M    business     0   \n",
              "6             married                 0      F    business     0   \n",
              "7             married                 0      M    employee     0   \n",
              "8   civil partnership                 1      F    employee     0   \n",
              "9             married                 0      M    employee     0   \n",
              "10            married                 0      M    business     0   \n",
              "11            married                 0      F    employee     0   \n",
              "12  civil partnership                 1      M     retiree     0   \n",
              "13            married                 0      F    employee     0   \n",
              "14  civil partnership                 1      F    business     1   \n",
              "\n",
              "    total_income            purpose dob_years_category  \n",
              "0      40620.102   property related        Masa Dewasa  \n",
              "1      17932.802        car related        Masa Dewasa  \n",
              "2      23341.752   property related        Masa Dewasa  \n",
              "3      42820.568  education related        Masa Dewasa  \n",
              "4      25378.572            wedding        Masa Lansia  \n",
              "5      40922.170   property related        Masa Dewasa  \n",
              "6      38484.156   property related        Masa Dewasa  \n",
              "7      21731.829  education related        Masa Lansia  \n",
              "8      15337.093            wedding        Masa Dewasa  \n",
              "9      23108.150   property related        Masa Dewasa  \n",
              "10     18230.959   property related        Masa Dewasa  \n",
              "11     12331.077   property related        Masa Dewasa  \n",
              "12           NaN            wedding        Masa Lansia  \n",
              "13     20873.317        car related        Masa Lansia  \n",
              "14     26420.466   property related        Masa Lansia  "
            ]
          },
          "execution_count": 169,
          "metadata": {},
          "output_type": "execute_result"
        }
      ],
      "source": [
        "# Memeriksa bagaimana nilai di dalam kolom baru\n",
        "credit_scoring.head(15)"
      ]
    },
    {
      "cell_type": "code",
      "execution_count": null,
      "metadata": {
        "scrolled": true,
        "id": "ZBe-_PXpLhlT"
      },
      "outputs": [],
      "source": [
        "# Terapkan fungsi tersebut ke setiap baris\n",
        "credit_scoring_new = fill_null_total_income(credit_scoring)"
      ]
    },
    {
      "cell_type": "code",
      "execution_count": null,
      "metadata": {
        "scrolled": true,
        "id": "M7jo_AZWLhlT",
        "outputId": "021ae94b-f178-4d9f-9490-3836d01e5452"
      },
      "outputs": [
        {
          "data": {
            "text/html": [
              "<div>\n",
              "<style scoped>\n",
              "    .dataframe tbody tr th:only-of-type {\n",
              "        vertical-align: middle;\n",
              "    }\n",
              "\n",
              "    .dataframe tbody tr th {\n",
              "        vertical-align: top;\n",
              "    }\n",
              "\n",
              "    .dataframe thead th {\n",
              "        text-align: right;\n",
              "    }\n",
              "</style>\n",
              "<table border=\"1\" class=\"dataframe\">\n",
              "  <thead>\n",
              "    <tr style=\"text-align: right;\">\n",
              "      <th></th>\n",
              "      <th>children</th>\n",
              "      <th>days_employed</th>\n",
              "      <th>dob_years</th>\n",
              "      <th>education</th>\n",
              "      <th>education_id</th>\n",
              "      <th>family_status</th>\n",
              "      <th>family_status_id</th>\n",
              "      <th>gender</th>\n",
              "      <th>income_type</th>\n",
              "      <th>debt</th>\n",
              "      <th>total_income</th>\n",
              "      <th>purpose</th>\n",
              "      <th>dob_years_category</th>\n",
              "    </tr>\n",
              "  </thead>\n",
              "  <tbody>\n",
              "  </tbody>\n",
              "</table>\n",
              "</div>"
            ],
            "text/plain": [
              "Empty DataFrame\n",
              "Columns: [children, days_employed, dob_years, education, education_id, family_status, family_status_id, gender, income_type, debt, total_income, purpose, dob_years_category]\n",
              "Index: []"
            ]
          },
          "execution_count": 171,
          "metadata": {},
          "output_type": "execute_result"
        }
      ],
      "source": [
        "# Periksa apakah kita mendapatkan kesalahan\n",
        "credit_scoring_new[credit_scoring_new['total_income'].isnull()]"
      ]
    },
    {
      "cell_type": "markdown",
      "metadata": {
        "id": "B4SGj7WXLhlU"
      },
      "source": [
        "[Jika Anda menemukan kesalahan dalam menyiapkan nilai untuk data yang hilang, mungkin berarti ada sesuatu yang istimewa tentang data untuk kategori tersebut. Mari pikirkan - Anda mungkin ingin memperbaiki beberapa hal secara manual, jika terdapat cukup data untuk menemukan median/rata-rata.]\n"
      ]
    },
    {
      "cell_type": "code",
      "execution_count": null,
      "metadata": {
        "id": "yXVc3qKALhlU",
        "outputId": "b5a8a6d4-fe20-488a-9811-05c653c314e1"
      },
      "outputs": [
        {
          "data": {
            "text/plain": [
              "'Berdasarkan penemuan diatas tidak ada data yang hilang lagi'"
            ]
          },
          "execution_count": 172,
          "metadata": {},
          "output_type": "execute_result"
        }
      ],
      "source": [
        "# Ganti nilai yang hilang jika terdapat kesalahan\n",
        "'''Berdasarkan penemuan diatas tidak ada data yang hilang lagi'''"
      ]
    },
    {
      "cell_type": "markdown",
      "metadata": {
        "id": "tEKL6D2XLhlU"
      },
      "source": [
        "[Setelah Anda selesai dengan `total_income`, periksa apakah jumlah total nilai di kolom ini sesuai dengan jumlah nilai di kolom lain.]"
      ]
    },
    {
      "cell_type": "code",
      "execution_count": null,
      "metadata": {
        "id": "KoGvQHAPLhlU",
        "outputId": "365bcdf2-01ba-4dae-8c74-86a1d559ec74"
      },
      "outputs": [
        {
          "name": "stdout",
          "output_type": "stream",
          "text": [
            "(20968,)\n",
            "(20968, 13)\n"
          ]
        }
      ],
      "source": [
        "# Periksa jumlah entri di kolom\n",
        "print(credit_scoring['total_income'].shape)\n",
        "print(credit_scoring.shape)"
      ]
    },
    {
      "cell_type": "markdown",
      "metadata": {
        "id": "p2arp8X4LhlU"
      },
      "source": [
        "###  Memperbaiki nilai di `days_employed`"
      ]
    },
    {
      "cell_type": "markdown",
      "metadata": {
        "id": "CufIC7C_LhlU"
      },
      "source": [
        "[Pikirkan tentang parameter yang dapat membantu Anda memperbaiki nilai yang hilang di kolom ini. Pada akhirnya, Anda akan mengetahui apakah Anda harus menggunakan nilai rata-rata atau median untuk mengganti nilai yang hilang. Anda mungkin perlu melakukan penelitian yang sama dengan yang Anda lakukan saat memperbaiki data di kolom sebelumnya.]"
      ]
    },
    {
      "cell_type": "code",
      "execution_count": null,
      "metadata": {
        "id": "0-eqFupLLhlU",
        "outputId": "8fb1520d-3afc-4fb0-f8fd-00f1b5c39ade"
      },
      "outputs": [
        {
          "data": {
            "text/plain": [
              "<AxesSubplot:>"
            ]
          },
          "execution_count": 174,
          "metadata": {},
          "output_type": "execute_result"
        },
        {
          "data": {
            "image/png": "[encoded data removed]",
            "text/plain": [
              "<Figure size 432x288 with 1 Axes>"
            ]
          },
          "metadata": {
            "needs_background": "light"
          },
          "output_type": "display_data"
        }
      ],
      "source": [
        "sns.boxplot(data = credit_scoring_notnull['days_employed'], orient=\"h\")"
      ]
    },
    {
      "cell_type": "code",
      "execution_count": null,
      "metadata": {
        "pycharm": {
          "name": "#%%\n"
        },
        "id": "eJt5-HnLLhlV",
        "outputId": "cecefe16-2926-47d2-e5ef-a5ee4ec1f72b"
      },
      "outputs": [
        {
          "data": {
            "text/html": [
              "<div>\n",
              "<style scoped>\n",
              "    .dataframe tbody tr th:only-of-type {\n",
              "        vertical-align: middle;\n",
              "    }\n",
              "\n",
              "    .dataframe tbody tr th {\n",
              "        vertical-align: top;\n",
              "    }\n",
              "\n",
              "    .dataframe thead th {\n",
              "        text-align: right;\n",
              "    }\n",
              "</style>\n",
              "<table border=\"1\" class=\"dataframe\">\n",
              "  <thead>\n",
              "    <tr style=\"text-align: right;\">\n",
              "      <th>income_type</th>\n",
              "      <th>business</th>\n",
              "      <th>civil servant</th>\n",
              "      <th>employee</th>\n",
              "      <th>retiree</th>\n",
              "    </tr>\n",
              "    <tr>\n",
              "      <th>dob_years_category</th>\n",
              "      <th></th>\n",
              "      <th></th>\n",
              "      <th></th>\n",
              "      <th></th>\n",
              "    </tr>\n",
              "  </thead>\n",
              "  <tbody>\n",
              "    <tr>\n",
              "      <th>Anak SMA</th>\n",
              "      <td>525.137538</td>\n",
              "      <td>509.969922</td>\n",
              "      <td>810.376486</td>\n",
              "      <td>NaN</td>\n",
              "    </tr>\n",
              "    <tr>\n",
              "      <th>Masa Dewasa</th>\n",
              "      <td>1881.010371</td>\n",
              "      <td>2942.408937</td>\n",
              "      <td>2069.420360</td>\n",
              "      <td>364295.980201</td>\n",
              "    </tr>\n",
              "    <tr>\n",
              "      <th>Masa Lansia</th>\n",
              "      <td>2901.194151</td>\n",
              "      <td>4574.660029</td>\n",
              "      <td>3164.199144</td>\n",
              "      <td>365056.700978</td>\n",
              "    </tr>\n",
              "    <tr>\n",
              "      <th>Masa Remaja</th>\n",
              "      <td>869.010176</td>\n",
              "      <td>1184.702095</td>\n",
              "      <td>931.852227</td>\n",
              "      <td>334764.259831</td>\n",
              "    </tr>\n",
              "  </tbody>\n",
              "</table>\n",
              "</div>"
            ],
            "text/plain": [
              "income_type            business  civil servant     employee        retiree\n",
              "dob_years_category                                                        \n",
              "Anak SMA             525.137538     509.969922   810.376486            NaN\n",
              "Masa Dewasa         1881.010371    2942.408937  2069.420360  364295.980201\n",
              "Masa Lansia         2901.194151    4574.660029  3164.199144  365056.700978\n",
              "Masa Remaja          869.010176    1184.702095   931.852227  334764.259831"
            ]
          },
          "execution_count": 175,
          "metadata": {},
          "output_type": "execute_result"
        }
      ],
      "source": [
        "# Distribusi median dari `days_employed` berdasarkan parameter yang Anda identifikasi\n",
        "total_income_median_pivot = credit_scoring_notnull.pivot_table(\n",
        "    index='dob_years_category',\n",
        "    columns='income_type',\n",
        "    values='days_employed',\n",
        "    aggfunc='mean',\n",
        ")\n",
        "total_income_median_pivot"
      ]
    },
    {
      "cell_type": "code",
      "execution_count": null,
      "metadata": {
        "id": "W_WiXa6jLhlV",
        "outputId": "3f84b323-3cd7-4fe8-d31d-fbfabc4ee3fe"
      },
      "outputs": [
        {
          "data": {
            "text/html": [
              "<div>\n",
              "<style scoped>\n",
              "    .dataframe tbody tr th:only-of-type {\n",
              "        vertical-align: middle;\n",
              "    }\n",
              "\n",
              "    .dataframe tbody tr th {\n",
              "        vertical-align: top;\n",
              "    }\n",
              "\n",
              "    .dataframe thead th {\n",
              "        text-align: right;\n",
              "    }\n",
              "</style>\n",
              "<table border=\"1\" class=\"dataframe\">\n",
              "  <thead>\n",
              "    <tr style=\"text-align: right;\">\n",
              "      <th>income_type</th>\n",
              "      <th>business</th>\n",
              "      <th>civil servant</th>\n",
              "      <th>employee</th>\n",
              "      <th>retiree</th>\n",
              "    </tr>\n",
              "    <tr>\n",
              "      <th>dob_years_category</th>\n",
              "      <th></th>\n",
              "      <th></th>\n",
              "      <th></th>\n",
              "      <th></th>\n",
              "    </tr>\n",
              "  </thead>\n",
              "  <tbody>\n",
              "    <tr>\n",
              "      <th>Anak SMA</th>\n",
              "      <td>525.137538</td>\n",
              "      <td>509.969922</td>\n",
              "      <td>810.376486</td>\n",
              "      <td>NaN</td>\n",
              "    </tr>\n",
              "    <tr>\n",
              "      <th>Masa Dewasa</th>\n",
              "      <td>1881.010371</td>\n",
              "      <td>2942.408937</td>\n",
              "      <td>2069.420360</td>\n",
              "      <td>364295.980201</td>\n",
              "    </tr>\n",
              "    <tr>\n",
              "      <th>Masa Lansia</th>\n",
              "      <td>2901.194151</td>\n",
              "      <td>4574.660029</td>\n",
              "      <td>3164.199144</td>\n",
              "      <td>365056.700978</td>\n",
              "    </tr>\n",
              "    <tr>\n",
              "      <th>Masa Remaja</th>\n",
              "      <td>869.010176</td>\n",
              "      <td>1184.702095</td>\n",
              "      <td>931.852227</td>\n",
              "      <td>334764.259831</td>\n",
              "    </tr>\n",
              "  </tbody>\n",
              "</table>\n",
              "</div>"
            ],
            "text/plain": [
              "income_type            business  civil servant     employee        retiree\n",
              "dob_years_category                                                        \n",
              "Anak SMA             525.137538     509.969922   810.376486            NaN\n",
              "Masa Dewasa         1881.010371    2942.408937  2069.420360  364295.980201\n",
              "Masa Lansia         2901.194151    4574.660029  3164.199144  365056.700978\n",
              "Masa Remaja          869.010176    1184.702095   931.852227  334764.259831"
            ]
          },
          "execution_count": 176,
          "metadata": {},
          "output_type": "execute_result"
        }
      ],
      "source": [
        "# Distribusi rata-rata dari `days_employed` berdasarkan parameter yang Anda identifikasi\n",
        "total_income_median_pivot = credit_scoring_notnull.pivot_table(\n",
        "    index='dob_years_category',\n",
        "    columns='income_type',\n",
        "    values='days_employed',\n",
        "    aggfunc='mean',\n",
        ")\n",
        "total_income_median_pivot"
      ]
    },
    {
      "cell_type": "markdown",
      "metadata": {
        "id": "02gBMlJyLhlV"
      },
      "source": [
        "[Tentukan apa yang akan Anda gunakan: rata-rata atau median. Jelaskan mengapa.]\n",
        "\n",
        "**Menggunakan median karena terdapat outlier pada boxplotnya**"
      ]
    },
    {
      "cell_type": "code",
      "execution_count": null,
      "metadata": {
        "id": "bEM0FadPLhlV"
      },
      "outputs": [],
      "source": [
        "# Mari tulis fungsi yang menghitung rata-rata atau median (tergantung keputusan Anda) berdasarkan parameter yang Anda identifikasi\n",
        "def fill_null_days_employed(data):\n",
        "    for i in range(len(data)):\n",
        "        if ((data.loc[:,'income_type'][i] == \"business\") & (str(data.loc[:,'days_employed'][i]) == 'nan')):\n",
        "            data['days_employed'][i] = 1550\n",
        "        elif ((data.loc[:,'income_type'][i] == \"civil servant\") & (str(data.loc[:,'days_employed'][i]) == 'nan')):\n",
        "            data['days_employed'][i] = 2673\n",
        "        elif ((data.loc[:,'income_type'][i] == \"employee\") & (str(data.loc[:,'days_employed'][i]) == 'nan')):\n",
        "            data['days_employed'][i] = 1573\n",
        "        elif ((data.loc[:,'income_type'][i] == \"entrepreneur\") & (str(data.loc[:,'days_employed'][i]) == 'nan')):\n",
        "            data['days_employed'][i] = 520\n",
        "        elif ((data.loc[:,'income_type'][i] == \"paternity / maternity leave\") & (str(data.loc[:,'days_employed'][i]) == 'nan')):\n",
        "            data['days_employed'][i] = 3296\n",
        "        elif ((data.loc[:,'income_type'][i] == \"retiree\") & (str(data.loc[:,'days_employed'][i]) == 'nan')):\n",
        "            data['days_employed'][i] = 365247\n",
        "        elif ((data.loc[:,'income_type'][i] == \"student\") & (str(data.loc[:,'days_employed'][i]) == 'nan')):\n",
        "            data['days_employed'][i] = 578\n",
        "        elif ((data.loc[:,'income_type'][i] == \"retiree\") & (str(data.loc[:,'days_employed'][i]) == 'nan')):\n",
        "            data['days_employed'][i] = 366413        \n",
        "    return data"
      ]
    },
    {
      "cell_type": "code",
      "execution_count": null,
      "metadata": {
        "id": "eEXzEqr3LhlV"
      },
      "outputs": [],
      "source": [
        "# Periksa apakah fungsi Anda dapat bekerja\n"
      ]
    },
    {
      "cell_type": "code",
      "execution_count": null,
      "metadata": {
        "id": "LAuW9w9fLhlW"
      },
      "outputs": [],
      "source": [
        "# Terapkan fungsi ke income_type\n",
        "credit_scoring = fill_null_days_employed(credit_scoring)"
      ]
    },
    {
      "cell_type": "code",
      "execution_count": null,
      "metadata": {
        "id": "QxYiVGikLhlW",
        "outputId": "6937e794-0c9c-4bf5-9f6a-784ee61d171f"
      },
      "outputs": [
        {
          "data": {
            "text/html": [
              "<div>\n",
              "<style scoped>\n",
              "    .dataframe tbody tr th:only-of-type {\n",
              "        vertical-align: middle;\n",
              "    }\n",
              "\n",
              "    .dataframe tbody tr th {\n",
              "        vertical-align: top;\n",
              "    }\n",
              "\n",
              "    .dataframe thead th {\n",
              "        text-align: right;\n",
              "    }\n",
              "</style>\n",
              "<table border=\"1\" class=\"dataframe\">\n",
              "  <thead>\n",
              "    <tr style=\"text-align: right;\">\n",
              "      <th></th>\n",
              "      <th>children</th>\n",
              "      <th>days_employed</th>\n",
              "      <th>dob_years</th>\n",
              "      <th>education</th>\n",
              "      <th>education_id</th>\n",
              "      <th>family_status</th>\n",
              "      <th>family_status_id</th>\n",
              "      <th>gender</th>\n",
              "      <th>income_type</th>\n",
              "      <th>debt</th>\n",
              "      <th>total_income</th>\n",
              "      <th>purpose</th>\n",
              "      <th>dob_years_category</th>\n",
              "    </tr>\n",
              "  </thead>\n",
              "  <tbody>\n",
              "  </tbody>\n",
              "</table>\n",
              "</div>"
            ],
            "text/plain": [
              "Empty DataFrame\n",
              "Columns: [children, days_employed, dob_years, education, education_id, family_status, family_status_id, gender, income_type, debt, total_income, purpose, dob_years_category]\n",
              "Index: []"
            ]
          },
          "execution_count": 180,
          "metadata": {},
          "output_type": "execute_result"
        }
      ],
      "source": [
        "# Periksa apakah fungsi Anda bekerja\n",
        "credit_scoring[credit_scoring_new['days_employed'].isnull()]\n"
      ]
    },
    {
      "cell_type": "markdown",
      "metadata": {
        "id": "CiF-VR_bLhlW"
      },
      "source": [
        "[Setelah Anda selesai dengan `total_income`, periksa apakah jumlah total nilai di kolom ini sesuai dengan jumlah nilai di kolom lain.]"
      ]
    },
    {
      "cell_type": "code",
      "execution_count": null,
      "metadata": {
        "id": "Kh59iKwLLhlW",
        "outputId": "3d105a62-a03d-4f68-ff79-48c138f772cb"
      },
      "outputs": [
        {
          "name": "stdout",
          "output_type": "stream",
          "text": [
            "<class 'pandas.core.frame.DataFrame'>\n",
            "RangeIndex: 20968 entries, 0 to 20967\n",
            "Data columns (total 13 columns):\n",
            " #   Column              Non-Null Count  Dtype  \n",
            "---  ------              --------------  -----  \n",
            " 0   children            20968 non-null  int64  \n",
            " 1   days_employed       20968 non-null  float64\n",
            " 2   dob_years           20968 non-null  int64  \n",
            " 3   education           20968 non-null  object \n",
            " 4   education_id        20968 non-null  int64  \n",
            " 5   family_status       20968 non-null  object \n",
            " 6   family_status_id    20968 non-null  int64  \n",
            " 7   gender              20968 non-null  object \n",
            " 8   income_type         20968 non-null  object \n",
            " 9   debt                20968 non-null  int64  \n",
            " 10  total_income        20968 non-null  float64\n",
            " 11  purpose             20968 non-null  object \n",
            " 12  dob_years_category  20968 non-null  object \n",
            "dtypes: float64(2), int64(5), object(6)\n",
            "memory usage: 2.1+ MB\n"
          ]
        }
      ],
      "source": [
        "# Periksa entri di semua kolom - pastikan kita memperbaiki semua nilai yang hilang\n",
        "credit_scoring.info()"
      ]
    },
    {
      "cell_type": "markdown",
      "metadata": {
        "id": "Nq-vOK-oLhlX"
      },
      "source": [
        "#### Pengkategorian Data\n",
        "\n",
        "[Untuk menjawab pertanyaan dan menguji hipotesis, Anda akan bekerja dengan data yang telah dikategorikan. Lihatlah pertanyaan-pertanyaan yang diajukan kepada Anda dan yang harus Anda jawab. Pikirkan tentang data mana yang perlu dikategorikan untuk menjawab pertanyaan-pertanyaan ini. Di bawah ini, Anda akan menemukan templat yang bisa Anda gunakan untuk mengkategorikan data. Proses pertama mencakup data teks; yang kedua membahas data numerik yang perlu dikategorikan. Anda dapat menggunakan kedua petunjuk yang disarankan atau tidak sama sekali - semuanya terserah Anda.]\n",
        "\n",
        "[Terlepas dari keputusan Anda untuk mengatasi pengkategorian, pastikan bahwa Anda secara lugas memberikan penjelasan tentang mengapa Anda membuat keputusan tersebut. Ingat: ini adalah pekerjaan Anda dan Andalah yang berhak membuat segala keputusan.]\n"
      ]
    },
    {
      "cell_type": "code",
      "execution_count": null,
      "metadata": {
        "scrolled": true,
        "id": "nfuhPpakLhlX",
        "outputId": "73509f66-cc44-4b85-9a4a-d06f99e01acc"
      },
      "outputs": [
        {
          "data": {
            "text/html": [
              "<div>\n",
              "<style scoped>\n",
              "    .dataframe tbody tr th:only-of-type {\n",
              "        vertical-align: middle;\n",
              "    }\n",
              "\n",
              "    .dataframe tbody tr th {\n",
              "        vertical-align: top;\n",
              "    }\n",
              "\n",
              "    .dataframe thead th {\n",
              "        text-align: right;\n",
              "    }\n",
              "</style>\n",
              "<table border=\"1\" class=\"dataframe\">\n",
              "  <thead>\n",
              "    <tr style=\"text-align: right;\">\n",
              "      <th></th>\n",
              "      <th>children</th>\n",
              "      <th>family_status</th>\n",
              "      <th>total_income</th>\n",
              "      <th>purpose</th>\n",
              "      <th>debt</th>\n",
              "    </tr>\n",
              "  </thead>\n",
              "  <tbody>\n",
              "    <tr>\n",
              "      <th>0</th>\n",
              "      <td>1</td>\n",
              "      <td>married</td>\n",
              "      <td>40620.102</td>\n",
              "      <td>property related</td>\n",
              "      <td>0</td>\n",
              "    </tr>\n",
              "    <tr>\n",
              "      <th>1</th>\n",
              "      <td>1</td>\n",
              "      <td>married</td>\n",
              "      <td>17932.802</td>\n",
              "      <td>car related</td>\n",
              "      <td>0</td>\n",
              "    </tr>\n",
              "    <tr>\n",
              "      <th>2</th>\n",
              "      <td>0</td>\n",
              "      <td>married</td>\n",
              "      <td>23341.752</td>\n",
              "      <td>property related</td>\n",
              "      <td>0</td>\n",
              "    </tr>\n",
              "    <tr>\n",
              "      <th>3</th>\n",
              "      <td>3</td>\n",
              "      <td>married</td>\n",
              "      <td>42820.568</td>\n",
              "      <td>education related</td>\n",
              "      <td>0</td>\n",
              "    </tr>\n",
              "    <tr>\n",
              "      <th>4</th>\n",
              "      <td>0</td>\n",
              "      <td>civil partnership</td>\n",
              "      <td>25378.572</td>\n",
              "      <td>wedding</td>\n",
              "      <td>0</td>\n",
              "    </tr>\n",
              "    <tr>\n",
              "      <th>...</th>\n",
              "      <td>...</td>\n",
              "      <td>...</td>\n",
              "      <td>...</td>\n",
              "      <td>...</td>\n",
              "      <td>...</td>\n",
              "    </tr>\n",
              "    <tr>\n",
              "      <th>20963</th>\n",
              "      <td>1</td>\n",
              "      <td>civil partnership</td>\n",
              "      <td>35966.698</td>\n",
              "      <td>property related</td>\n",
              "      <td>0</td>\n",
              "    </tr>\n",
              "    <tr>\n",
              "      <th>20964</th>\n",
              "      <td>0</td>\n",
              "      <td>married</td>\n",
              "      <td>24959.969</td>\n",
              "      <td>car related</td>\n",
              "      <td>0</td>\n",
              "    </tr>\n",
              "    <tr>\n",
              "      <th>20965</th>\n",
              "      <td>1</td>\n",
              "      <td>civil partnership</td>\n",
              "      <td>14347.610</td>\n",
              "      <td>property related</td>\n",
              "      <td>1</td>\n",
              "    </tr>\n",
              "    <tr>\n",
              "      <th>20966</th>\n",
              "      <td>3</td>\n",
              "      <td>married</td>\n",
              "      <td>39054.888</td>\n",
              "      <td>car related</td>\n",
              "      <td>1</td>\n",
              "    </tr>\n",
              "    <tr>\n",
              "      <th>20967</th>\n",
              "      <td>2</td>\n",
              "      <td>married</td>\n",
              "      <td>13127.587</td>\n",
              "      <td>car related</td>\n",
              "      <td>0</td>\n",
              "    </tr>\n",
              "  </tbody>\n",
              "</table>\n",
              "<p>20968 rows × 5 columns</p>\n",
              "</div>"
            ],
            "text/plain": [
              "       children      family_status  total_income            purpose  debt\n",
              "0             1            married     40620.102   property related     0\n",
              "1             1            married     17932.802        car related     0\n",
              "2             0            married     23341.752   property related     0\n",
              "3             3            married     42820.568  education related     0\n",
              "4             0  civil partnership     25378.572            wedding     0\n",
              "...         ...                ...           ...                ...   ...\n",
              "20963         1  civil partnership     35966.698   property related     0\n",
              "20964         0            married     24959.969        car related     0\n",
              "20965         1  civil partnership     14347.610   property related     1\n",
              "20966         3            married     39054.888        car related     1\n",
              "20967         2            married     13127.587        car related     0\n",
              "\n",
              "[20968 rows x 5 columns]"
            ]
          },
          "execution_count": 183,
          "metadata": {},
          "output_type": "execute_result"
        }
      ],
      "source": [
        "# Tampilkan nilai data yang Anda pilih untuk pengkategorian\n",
        "filtered_credit_scoring = credit_scoring[['children','family_status','total_income','purpose','debt']]\n",
        "\n",
        "filtered_credit_scoring"
      ]
    },
    {
      "cell_type": "markdown",
      "metadata": {
        "id": "cNtYhvU3LhlX"
      },
      "source": [
        "[Mari kita memeriksa nilai unik]"
      ]
    },
    {
      "cell_type": "code",
      "execution_count": null,
      "metadata": {
        "id": "O2s1bcJdLhlX",
        "outputId": "d6fc4e46-4505-4719-801e-a806c84fc976"
      },
      "outputs": [
        {
          "data": {
            "text/plain": [
              "array([1, 0, 3, 2, 4, 5])"
            ]
          },
          "execution_count": 184,
          "metadata": {},
          "output_type": "execute_result"
        }
      ],
      "source": [
        "# Periksa nilai unik\n",
        "filtered_credit_scoring['children'].unique()"
      ]
    },
    {
      "cell_type": "code",
      "execution_count": null,
      "metadata": {
        "id": "kD6vMYU6LhlX",
        "outputId": "777e5879-b7da-4938-f5cf-23db770a8746"
      },
      "outputs": [
        {
          "data": {
            "text/plain": [
              "array(['married', 'civil partnership', 'divorced', 'unmarried'],\n",
              "      dtype=object)"
            ]
          },
          "execution_count": 185,
          "metadata": {},
          "output_type": "execute_result"
        }
      ],
      "source": [
        "filtered_credit_scoring['family_status'].unique()"
      ]
    },
    {
      "cell_type": "code",
      "execution_count": null,
      "metadata": {
        "id": "QQ3CwA9lLhlX",
        "outputId": "e34c3e22-d090-447a-906c-a12647aac742"
      },
      "outputs": [
        {
          "data": {
            "text/plain": [
              "array(['property related', 'car related', 'education related', 'wedding'],\n",
              "      dtype=object)"
            ]
          },
          "execution_count": 186,
          "metadata": {},
          "output_type": "execute_result"
        }
      ],
      "source": [
        "filtered_credit_scoring['purpose'].unique()"
      ]
    },
    {
      "cell_type": "code",
      "execution_count": null,
      "metadata": {
        "id": "m1XWv1cbLhlY",
        "outputId": "9babde20-7186-4549-86e8-4fda29921d7d"
      },
      "outputs": [
        {
          "data": {
            "text/plain": [
              "0    19240\n",
              "1     1728\n",
              "Name: debt, dtype: int64"
            ]
          },
          "execution_count": 187,
          "metadata": {},
          "output_type": "execute_result"
        }
      ],
      "source": [
        "filtered_credit_scoring['debt'].value_counts()"
      ]
    },
    {
      "cell_type": "markdown",
      "metadata": {
        "id": "iudOLIvYLhlY"
      },
      "source": [
        "[Kelompok utama apakah yang dapat Anda identifikasi berdasarkan nilai uniknya?]\n",
        "**children, family_status, debt dan purpose**\n",
        "\n",
        "[Kita akan mengkategorikan data kita berdasarkan topik ini.]\n"
      ]
    },
    {
      "cell_type": "code",
      "execution_count": null,
      "metadata": {
        "id": "KUIPRqBJLhlY"
      },
      "outputs": [],
      "source": [
        "# Mari kita tulis sebuah fungsi untuk mengategorikan data berdasarkan topik umum\n",
        "def marital_status(family_status):\n",
        "    if family_status == 'married': \n",
        "        return 'mingle'\n",
        "    elif family_status == 'civil_partnership': \n",
        "        return 'mingle'\n",
        "    elif family_status == 'unmarried':\n",
        "        return 'single'\n",
        "    elif family_status == 'divorced':\n",
        "        return 'single'"
      ]
    },
    {
      "cell_type": "code",
      "execution_count": null,
      "metadata": {
        "scrolled": true,
        "id": "lmnTX5IJLhl-",
        "outputId": "a135719a-4991-47b0-9b50-a2faabc36bef"
      },
      "outputs": [
        {
          "data": {
            "text/html": [
              "<div>\n",
              "<style scoped>\n",
              "    .dataframe tbody tr th:only-of-type {\n",
              "        vertical-align: middle;\n",
              "    }\n",
              "\n",
              "    .dataframe tbody tr th {\n",
              "        vertical-align: top;\n",
              "    }\n",
              "\n",
              "    .dataframe thead th {\n",
              "        text-align: right;\n",
              "    }\n",
              "</style>\n",
              "<table border=\"1\" class=\"dataframe\">\n",
              "  <thead>\n",
              "    <tr style=\"text-align: right;\">\n",
              "      <th></th>\n",
              "      <th>children</th>\n",
              "      <th>family_status</th>\n",
              "      <th>total_income</th>\n",
              "      <th>purpose</th>\n",
              "      <th>debt</th>\n",
              "      <th>marital_status</th>\n",
              "    </tr>\n",
              "  </thead>\n",
              "  <tbody>\n",
              "    <tr>\n",
              "      <th>0</th>\n",
              "      <td>1</td>\n",
              "      <td>married</td>\n",
              "      <td>40620.102</td>\n",
              "      <td>property related</td>\n",
              "      <td>0</td>\n",
              "      <td>mingle</td>\n",
              "    </tr>\n",
              "    <tr>\n",
              "      <th>1</th>\n",
              "      <td>1</td>\n",
              "      <td>married</td>\n",
              "      <td>17932.802</td>\n",
              "      <td>car related</td>\n",
              "      <td>0</td>\n",
              "      <td>mingle</td>\n",
              "    </tr>\n",
              "    <tr>\n",
              "      <th>2</th>\n",
              "      <td>0</td>\n",
              "      <td>married</td>\n",
              "      <td>23341.752</td>\n",
              "      <td>property related</td>\n",
              "      <td>0</td>\n",
              "      <td>mingle</td>\n",
              "    </tr>\n",
              "    <tr>\n",
              "      <th>3</th>\n",
              "      <td>3</td>\n",
              "      <td>married</td>\n",
              "      <td>42820.568</td>\n",
              "      <td>education related</td>\n",
              "      <td>0</td>\n",
              "      <td>mingle</td>\n",
              "    </tr>\n",
              "    <tr>\n",
              "      <th>4</th>\n",
              "      <td>0</td>\n",
              "      <td>civil partnership</td>\n",
              "      <td>25378.572</td>\n",
              "      <td>wedding</td>\n",
              "      <td>0</td>\n",
              "      <td>None</td>\n",
              "    </tr>\n",
              "  </tbody>\n",
              "</table>\n",
              "</div>"
            ],
            "text/plain": [
              "   children      family_status  total_income            purpose  debt  \\\n",
              "0         1            married     40620.102   property related     0   \n",
              "1         1            married     17932.802        car related     0   \n",
              "2         0            married     23341.752   property related     0   \n",
              "3         3            married     42820.568  education related     0   \n",
              "4         0  civil partnership     25378.572            wedding     0   \n",
              "\n",
              "  marital_status  \n",
              "0         mingle  \n",
              "1         mingle  \n",
              "2         mingle  \n",
              "3         mingle  \n",
              "4           None  "
            ]
          },
          "execution_count": 189,
          "metadata": {},
          "output_type": "execute_result"
        }
      ],
      "source": [
        "# Buat kolom yang memuat kategori dan hitung nilainya\n",
        "filtered_credit_scoring.loc[:,'marital_status'] = filtered_credit_scoring['family_status'].apply(marital_status)\n",
        "filtered_credit_scoring.head()"
      ]
    },
    {
      "cell_type": "markdown",
      "metadata": {
        "id": "Ck6Kh7PZLhl_"
      },
      "source": [
        "[Jika Anda memutuskan untuk mengategorikan data numerik, Anda juga harus membuat kategori untuk data tersebut.]"
      ]
    },
    {
      "cell_type": "code",
      "execution_count": null,
      "metadata": {
        "id": "c1pLXYzTLhmA"
      },
      "outputs": [],
      "source": [
        "# Lihat semua data numerik di kolom yang Anda pilih untuk pengkategorian"
      ]
    },
    {
      "cell_type": "code",
      "execution_count": null,
      "metadata": {
        "id": "JxKtdydULhmA",
        "outputId": "11a5332b-99d5-4470-e765-d015cba6cffd"
      },
      "outputs": [
        {
          "data": {
            "text/plain": [
              "debt  marital_status\n",
              "0     mingle            11075\n",
              "      single             4455\n",
              "1     mingle              922\n",
              "      single              420\n",
              "Name: marital_status, dtype: int64"
            ]
          },
          "execution_count": 191,
          "metadata": {},
          "output_type": "execute_result"
        }
      ],
      "source": [
        "# Dapatkan kesimpulan statistik untuk kolomnya\n",
        "filtered_credit_scoring.groupby('debt')['marital_status'].value_counts()\n"
      ]
    },
    {
      "cell_type": "markdown",
      "metadata": {
        "id": "gDBQzS3dLhmA"
      },
      "source": [
        "[Tentukan rentang apa yang akan Anda gunakan untuk pengelompokan dan jelaskan alasannya.]\n",
        "\n",
        "**rentang yang digunakan adalah berdasarkan rentang total_income karena menurut saya yang dapat menyebabkan sesorang gagal bayar kredit mereka adalah karena pengeluaran dan pemasukan yang tidak seimbang**"
      ]
    },
    {
      "cell_type": "code",
      "execution_count": null,
      "metadata": {
        "scrolled": true,
        "id": "jdg4t6UwLhmA",
        "outputId": "cb132b3b-03d5-4f63-88bd-a6e3fc970dc7"
      },
      "outputs": [
        {
          "name": "stdout",
          "output_type": "stream",
          "text": [
            "<class 'pandas.core.frame.DataFrame'>\n",
            "RangeIndex: 20968 entries, 0 to 20967\n",
            "Data columns (total 6 columns):\n",
            " #   Column          Non-Null Count  Dtype  \n",
            "---  ------          --------------  -----  \n",
            " 0   children        20968 non-null  int64  \n",
            " 1   family_status   20968 non-null  object \n",
            " 2   total_income    20968 non-null  float64\n",
            " 3   purpose         20968 non-null  object \n",
            " 4   debt            20968 non-null  int64  \n",
            " 5   marital_status  16872 non-null  object \n",
            "dtypes: float64(1), int64(2), object(3)\n",
            "memory usage: 983.0+ KB\n"
          ]
        }
      ],
      "source": [
        "filtered_credit_scoring.loc[:,'total_income'] = filtered_credit_scoring['total_income'].astype('float')\n",
        "\n",
        "filtered_credit_scoring.info()"
      ]
    },
    {
      "cell_type": "code",
      "execution_count": null,
      "metadata": {
        "id": "qFtDiLq_LhmB"
      },
      "outputs": [],
      "source": [
        "# Buat fungsi yang melakukan pengkategorian menjadi kelompok numerik yang berbeda berdasarkan rentang\n",
        "def total_income_category(income):\n",
        "    if income <= 50000:\n",
        "        return 'low'\n",
        "    elif income <= 100000:\n",
        "        return 'average'\n",
        "    elif income > 100000:\n",
        "        return 'high'"
      ]
    },
    {
      "cell_type": "code",
      "execution_count": null,
      "metadata": {
        "scrolled": true,
        "id": "fgBFzeN1LhmC"
      },
      "outputs": [],
      "source": [
        "# Buat kolom yang memuat kategori\n",
        "filtered_credit_scoring['total_income_category'] = filtered_credit_scoring.total_income.apply(total_income_category)"
      ]
    },
    {
      "cell_type": "code",
      "execution_count": null,
      "metadata": {
        "scrolled": true,
        "id": "o8Rcf9ibLhmD",
        "outputId": "3eaf880b-3700-465e-f4a1-e275e0cb1389"
      },
      "outputs": [
        {
          "data": {
            "text/plain": [
              "debt  total_income_category\n",
              "0     low                      18016\n",
              "      average                   1131\n",
              "      high                        93\n",
              "1     low                       1636\n",
              "      average                     86\n",
              "      high                         6\n",
              "Name: total_income_category, dtype: int64"
            ]
          },
          "execution_count": 195,
          "metadata": {},
          "output_type": "execute_result"
        }
      ],
      "source": [
        "# Hitung setiap nilai kategori untuk melihat pendistribusiannya\n",
        "filtered_credit_scoring.groupby('debt')['total_income_category'].value_counts()"
      ]
    },
    {
      "cell_type": "markdown",
      "metadata": {
        "id": "irLmGQtWLhmD"
      },
      "source": [
        "## Memeriksa hipotesis\n"
      ]
    },
    {
      "cell_type": "markdown",
      "metadata": {
        "id": "-9uMyUOCLhmE"
      },
      "source": [
        "**Apakah terdapat korelasi antara memiliki anak dengan melakukan pelunasan tepat waktu?**"
      ]
    },
    {
      "cell_type": "code",
      "execution_count": null,
      "metadata": {
        "id": "WRmoZmtrLhmE",
        "outputId": "12947da5-d393-4d48-fb75-aa995f389f94"
      },
      "outputs": [
        {
          "name": "stdout",
          "output_type": "stream",
          "text": [
            "children\n",
            "0    12702\n",
            "1     4294\n",
            "2     1899\n",
            "3      300\n",
            "4       36\n",
            "5        9\n",
            "Name: debt, dtype: int64\n",
            "children\n",
            "0    1056\n",
            "1     440\n",
            "2     201\n",
            "3      27\n",
            "4       4\n",
            "Name: debt, dtype: int64\n",
            "children\n",
            "0    0.083137\n",
            "1    0.102469\n",
            "2    0.105845\n",
            "3    0.090000\n",
            "4    0.111111\n",
            "5         NaN\n",
            "Name: debt, dtype: float64\n"
          ]
        }
      ],
      "source": [
        "# Periksa data anak dan data pelunasan tepat waktu\n",
        "payment_on_time = filtered_credit_scoring[filtered_credit_scoring['debt']==0]\n",
        "children_on_time_payment = payment_on_time.groupby('children')['debt'].count()\n",
        "\n",
        "# Hitung gagal bayar berdasarkan jumlah anak\n",
        "payment_late = filtered_credit_scoring[filtered_credit_scoring['debt']==1]\n",
        "children_late_payment =payment_late.groupby('children')['debt'].count()\n",
        "\n",
        "print(children_on_time_payment)\n",
        "print(children_late_payment)\n",
        "print(children_late_payment/children_on_time_payment)"
      ]
    },
    {
      "cell_type": "markdown",
      "metadata": {
        "id": "aGaU4iOoLhmF"
      },
      "source": [
        "**Kesimpulan**\n",
        "\n",
        "[Tulis kesimpulan Anda berdasarkan manipulasi dan pengamatan yang Anda lakukan.]\n",
        "\n",
        "**Tidak ada hubungan antara risiko gagal bayar nasabah dengan jumlah anak**"
      ]
    },
    {
      "cell_type": "markdown",
      "metadata": {
        "id": "o7RWmipCLhmF"
      },
      "source": [
        "**Apakah terdapat korelasi antara status keluarga dengan pelunasan tepat waktu?**"
      ]
    },
    {
      "cell_type": "code",
      "execution_count": null,
      "metadata": {
        "scrolled": true,
        "id": "8pA33MMMLhmF",
        "outputId": "a119b32b-8cbd-43da-8cfa-a39a4a9964ab"
      },
      "outputs": [
        {
          "name": "stdout",
          "output_type": "stream",
          "text": [
            "family_status\n",
            "civil partnership     3710\n",
            "divorced              1966\n",
            "married              11075\n",
            "unmarried             2489\n",
            "Name: debt, dtype: int64\n",
            "family_status\n",
            "civil partnership    386\n",
            "divorced             147\n",
            "married              922\n",
            "unmarried            273\n",
            "Name: debt, dtype: int64\n",
            "family_status\n",
            "civil partnership    0.104043\n",
            "divorced             0.074771\n",
            "married              0.083251\n",
            "unmarried            0.109683\n",
            "Name: debt, dtype: float64\n"
          ]
        }
      ],
      "source": [
        "# Periksa data status keluarga dan pelunasan tepat waktu\n",
        "status_on_time_payment = payment_on_time.groupby('family_status')['debt'].count()\n",
        "\n",
        "\n",
        "# Hitung gagal bayar berdasarkan status keluarga\n",
        "status_late_payment = payment_late.groupby('family_status')['debt'].count()\n",
        "print(status_on_time_payment)\n",
        "print(status_late_payment)\n",
        "print(status_late_payment/status_on_time_payment)"
      ]
    },
    {
      "cell_type": "markdown",
      "metadata": {
        "id": "nRxZBIZcLhmG"
      },
      "source": [
        "**Kesimpulan**\n",
        "\n",
        "[Tulis kesimpulan Anda berdasarkan manipulasi dan pengamatan Anda.]\n",
        "\n",
        "**Nasabah dengan family status civil partnership dan unmarried memiliki persentase gagal bayar lebih tinggi dari pada nasabah dengan family_status married dan divorce**"
      ]
    },
    {
      "cell_type": "markdown",
      "metadata": {
        "id": "s-ZS0OkgLhmG"
      },
      "source": [
        "**Apakah terdapat korelasi antara tingkat pendapatan dengan membayar kembali tepat waktu?**"
      ]
    },
    {
      "cell_type": "code",
      "execution_count": null,
      "metadata": {
        "id": "0cExdlAILhmG",
        "outputId": "62ed7738-073a-435e-86e2-f86a690545a6"
      },
      "outputs": [
        {
          "name": "stdout",
          "output_type": "stream",
          "text": [
            "total_income_category\n",
            "average     1131\n",
            "high          93\n",
            "low        18016\n",
            "Name: debt, dtype: int64\n",
            "total_income_category\n",
            "average      86\n",
            "high          6\n",
            "low        1636\n",
            "Name: debt, dtype: int64\n",
            "total_income_category\n",
            "average    0.076039\n",
            "high       0.064516\n",
            "low        0.090808\n",
            "Name: debt, dtype: float64\n"
          ]
        }
      ],
      "source": [
        "# Periksa data tingkat pendapatan dan pelunasan tepat waktu\n",
        "income_category_on_time_payment = payment_on_time.groupby('total_income_category')['debt'].count()\n",
        "\n",
        "\n",
        "# Hitung gagal bayar berdasarkan tingkat pendapatan\n",
        "income_category_late_payment = payment_late.groupby('total_income_category')['debt'].count()\n",
        "print(income_category_on_time_payment)\n",
        "print(income_category_late_payment)\n",
        "print(income_category_late_payment/income_category_on_time_payment)"
      ]
    },
    {
      "cell_type": "markdown",
      "metadata": {
        "id": "WJTPLMCFLhmG"
      },
      "source": [
        "**Kesimpulan**\n",
        "\n",
        "[Tulis kesimpulan Anda berdasarkan manipulasi dan pengamatan Anda.]\n",
        "\n",
        "**Nasabah yang tingkat pendapatan rendah memiliki resiko gagal bayar yang lebih tinggi dan resiko ini menurun seiring dengan peningkatan pendapatan**"
      ]
    },
    {
      "cell_type": "markdown",
      "metadata": {
        "id": "nW0_W1RBLhmG"
      },
      "source": [
        "**Bagaimana tujuan kredit memengaruhi tingkat gagal bayar?**"
      ]
    },
    {
      "cell_type": "code",
      "execution_count": null,
      "metadata": {
        "id": "nlyAcWBLLhmG",
        "outputId": "79c51e63-3a4b-4cc5-c6fa-d114403bd41a"
      },
      "outputs": [
        {
          "name": "stdout",
          "output_type": "stream",
          "text": [
            "purpose\n",
            "car related          0.103359\n",
            "education related    0.103758\n",
            "property related     0.079881\n",
            "wedding              0.087369\n",
            "Name: debt, dtype: float64\n"
          ]
        }
      ],
      "source": [
        "# Periksa persentase tingkat gagal bayar untuk setiap tujuan kredit dan lakukan penganalisisan\n",
        "purpose_on_time_payment = payment_on_time.groupby('purpose')['debt'].count()\n",
        "purpose_late_payment = payment_late.groupby('purpose')['debt'].count()\n",
        "print(purpose_late_payment/purpose_on_time_payment)"
      ]
    },
    {
      "cell_type": "markdown",
      "metadata": {
        "id": "JcHFLPh6LhmH"
      },
      "source": [
        "**Kesimpulan**\n",
        "\n",
        "[Tulis kesimpulan Anda berdasarkan manipulasi dan pengamatan yang Anda lakukan.]\n",
        "\n",
        "**Nasabah yang melakukan peminjaman dengan tujuan yang berhubungan dengan properti memiliki resifiko gagal bayar paling rendah, diikuti dengan tujuan pernikahan dan resiko tertinggi ada pada tujuan yang berhubungan dengan mobil dan pendidikan**\n"
      ]
    },
    {
      "cell_type": "markdown",
      "metadata": {
        "id": "hJRH4jOvLhmH"
      },
      "source": [
        "# Kesimpulan umum \n",
        "\n",
        "[Tuliskan kesimpulan Anda di bagian akhir ini. Pastikan Anda memasukkan semua kesimpulan penting yang telah Anda buat berkaitan dengan cara Anda memproses dan menganalisis data. Kesimpulan tersebut harus membahas nilai yang hilang, duplikat, dan kemungkinan alasan serta solusi untuk data bermasalah yang harus Anda tangani.]\n",
        "\n",
        "[Tuliskan juga kesimpulan Anda mengenai pertanyaan-pertanyaan yang diajukan di sini.]\n"
      ]
    },
    {
      "cell_type": "markdown",
      "metadata": {
        "id": "EUxPYURJLhmH"
      },
      "source": [
        "**Secara umum nasabah yang tingkat pendapatan rendah memiliki resiko gagal bayar yang lebih tinggi dan resiko ini menurun seiring dengan peningkatan pendapatan, selain itu resiko gagal bayar nasabah dapat dihubungkan pula dengan tujuan peminjaman nasabah dimana nasabah yang melakukan peminjaman dengan tujuan yang berhubungan dengan properti memiliki resifiko gagal bayar paling rendah diikuti dengan tujuan pernikahan dan resiko tertinggi ada pada tujuan yang berhubungan dengan mobil dan pendidikan.**\n",
        "\n",
        "**Jika dikaitkan dengan family status, maka nasabah dengan family status civil partnership dan unmarried memiliki persentase gagal bayar lebih tinggi dari pada nasabah dengan family_status married dan divorce.**"
      ]
    }
  ],
  "metadata": {
    "ExecuteTimeLog": [
      {
        "duration": 2741,
        "start_time": "2021-10-21T01:08:49.480Z"
      },
      {
        "duration": 52,
        "start_time": "2021-10-21T01:08:53.315Z"
      },
      {
        "duration": 49,
        "start_time": "2021-10-21T01:08:57.432Z"
      },
      {
        "duration": 70,
        "start_time": "2021-10-21T01:09:07.706Z"
      }
    ],
    "kernelspec": {
      "display_name": "Python 3 (ipykernel)",
      "language": "python",
      "name": "python3"
    },
    "language_info": {
      "codemirror_mode": {
        "name": "ipython",
        "version": 3
      },
      "file_extension": ".py",
      "mimetype": "text/x-python",
      "name": "python",
      "nbconvert_exporter": "python",
      "pygments_lexer": "ipython3",
      "version": "3.9.5"
    },
    "toc": {
      "base_numbering": 1,
      "nav_menu": {},
      "number_sections": true,
      "sideBar": true,
      "skip_h1_title": true,
      "title_cell": "Table of Contents",
      "title_sidebar": "Contents",
      "toc_cell": false,
      "toc_position": {},
      "toc_section_display": true,
      "toc_window_display": true
    },
    "vscode": {
      "interpreter": {
        "hash": "ef1728426330606e01c1da091626d7dbd7604032247e9790b44969d857c4f729"
      }
    },
    "colab": {
      "provenance": []
    }
  },
  "nbformat": 4,
  "nbformat_minor": 0
}